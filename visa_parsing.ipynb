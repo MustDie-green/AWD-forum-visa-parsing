{
 "cells": [
  {
   "cell_type": "code",
   "execution_count": null,
   "id": "f543837b",
   "metadata": {
    "scrolled": true
   },
   "outputs": [],
   "source": [
    "r = requests.get('https://forum.awd.ru/viewtopic.php?f=521&t=397637&start=120', headers = headers)\n",
    "\n",
    "sp = bs(r.text, 'html.parser')\n",
    "\n",
    "sp.find_all('div', 'content')\n",
    "\n"
   ]
  },
  {
   "cell_type": "code",
   "execution_count": null,
   "id": "b23e0c52",
   "metadata": {
    "scrolled": true
   },
   "outputs": [],
   "source": [
    "import pandas as pd\n",
    "import seaborn as sns\n",
    "import requests\n",
    "from bs4 import BeautifulSoup as bs\n",
    "import dfply\n",
    "import re\n",
    "import numpy as np\n"
   ]
  },
  {
   "cell_type": "markdown",
   "id": "8aef8f90",
   "metadata": {},
   "source": [
    "Функция для получения нужных страниц форума"
   ]
  },
  {
   "cell_type": "code",
   "execution_count": null,
   "id": "6bbe0fa7",
   "metadata": {
    "scrolled": true
   },
   "outputs": [],
   "source": [
    "def parse_forum(url, starts, headers):\n",
    "    result = []\n",
    "    for start in starts:\n",
    "        request = requests.get(url = url + str(start), headers = headers)\n",
    "        result.append(bs(request.text, 'html.parser'))\n",
    "    return result"
   ]
  },
  {
   "cell_type": "markdown",
   "id": "19f1aac9",
   "metadata": {},
   "source": [
    "Функция для спарсивания нужных кусков страницы (del нужно, потому что на каждой странице вверху есть опрос, который тоже спарсивается, но не нужен)"
   ]
  },
  {
   "cell_type": "code",
   "execution_count": null,
   "id": "52165cda",
   "metadata": {
    "scrolled": true
   },
   "outputs": [],
   "source": [
    "def parse_soups(soups, tag, class_, delete):\n",
    "    result = []\n",
    "    for el in soups:\n",
    "        content = el.find_all(tag, class_ = class_)\n",
    "        del content[delete]\n",
    "        for elem in content:\n",
    "            result.append(elem.text.strip())\n",
    "    return result"
   ]
  },
  {
   "cell_type": "code",
   "execution_count": null,
   "id": "c327f767",
   "metadata": {
    "scrolled": true
   },
   "outputs": [],
   "source": [
    "starts = [0,20, 40, 60, 80, 100, 120, 140]\n",
    "headers = {\n",
    "    'User-Agent':'Mozilla/5.0 (Macintosh; Intel Mac OS X 10_15_7) AppleWebKit/605.1.15 (KHTML, like Gecko) Version/15.5 Safari/605.1.15',\n",
    "    'cookie': '_ga_W0JDW2V29Y=GS1.1.1661181837.2.1.1661184512.60.0.0; _ga=GA1.2.1025230771.1661155454; _gid=GA1.2.721157209.1661155454; style_cookie=null; phpbb3_alft2_k=; phpbb3_alft2_sid=fa5f9f17fa55d5a1a82d62c62159899a; phpbb3_alft2_u=1'\n",
    "}\n",
    "\n",
    "soups = parse_forum('https://forum.awd.ru/viewtopic.php?f=521&t=397637&start=', starts, headers)"
   ]
  },
  {
   "cell_type": "code",
   "execution_count": null,
   "id": "f36283bd",
   "metadata": {
    "scrolled": true
   },
   "outputs": [],
   "source": []
  },
  {
   "cell_type": "code",
   "execution_count": null,
   "id": "49aa9760",
   "metadata": {
    "scrolled": true
   },
   "outputs": [],
   "source": []
  },
  {
   "cell_type": "code",
   "execution_count": null,
   "id": "93884cc8",
   "metadata": {
    "scrolled": true
   },
   "outputs": [],
   "source": [
    "contents = parse_soups(soups, 'div', 'content', 0)\n",
    "authors = parse_soups(soups, 'p', 'author', 0)"
   ]
  },
  {
   "cell_type": "code",
   "execution_count": null,
   "id": "d5200242",
   "metadata": {
    "scrolled": true
   },
   "outputs": [],
   "source": [
    "print(len(contents))\n",
    "print(len(authors))"
   ]
  },
  {
   "cell_type": "code",
   "execution_count": null,
   "id": "85dca1bb",
   "metadata": {
    "scrolled": false
   },
   "outputs": [],
   "source": [
    "contents[120:131]"
   ]
  },
  {
   "cell_type": "markdown",
   "id": "0f4ea212",
   "metadata": {},
   "source": [
    "Функция для парсинга уже конкретных данных по регулярному выражению\n",
    "Айди нужен, чтобы потом вручную прописать данные, которые не спарсятся, и не потерять порядок людей"
   ]
  },
  {
   "cell_type": "code",
   "execution_count": null,
   "id": "5021323d",
   "metadata": {
    "scrolled": true
   },
   "outputs": [],
   "source": [
    "def get_data(regex, list, group_num = 2, hard = False, hard_regex = '(5\\.)(.*)'):\n",
    "    result = []\n",
    "    for idd, value in enumerate(list):\n",
    "        try:\n",
    "            reg = re.search(regex, value).group(group_num).strip()\n",
    "            \n",
    "            if hard == True:\n",
    "                for i in range(3):\n",
    "                    try:\n",
    "                        reg = re.search(hard_regex, reg).group(2).strip()\n",
    "                    except:\n",
    "                        break\n",
    "                        \n",
    "                        \n",
    "            result.append(reg)\n",
    "        except:\n",
    "            print(\"id = \" + str(idd) + \"__Не пон \" + str(value) + \"\\n___________\")\n",
    "            result.append(np.NaN)\n",
    "    return result"
   ]
  },
  {
   "cell_type": "code",
   "execution_count": null,
   "id": "9844c13f",
   "metadata": {
    "scrolled": true
   },
   "outputs": [],
   "source": [
    "city = get_data('(1\\.)(.*?)(2\\.)', contents)\n",
    "city"
   ]
  },
  {
   "cell_type": "code",
   "execution_count": null,
   "id": "08157b28",
   "metadata": {
    "scrolled": true
   },
   "outputs": [],
   "source": [
    "visa_center = get_data('(2\\.)(.*?)(3\\.)', contents) \n",
    "visa_center"
   ]
  },
  {
   "cell_type": "code",
   "execution_count": null,
   "id": "af248f97",
   "metadata": {
    "scrolled": false
   },
   "outputs": [],
   "source": [
    "date = get_data('\\d\\d\\s\\w{2,4}\\s\\d\\d\\d\\d', authors, 0)\n",
    "date"
   ]
  },
  {
   "cell_type": "code",
   "execution_count": null,
   "id": "0604199d",
   "metadata": {
    "scrolled": false
   },
   "outputs": [],
   "source": [
    "visa_history = get_data('(4\\.)(.*?)(5\\.)', contents)\n",
    "visa_history"
   ]
  },
  {
   "cell_type": "code",
   "execution_count": null,
   "id": "370950cc",
   "metadata": {
    "scrolled": false
   },
   "outputs": [],
   "source": [
    "visa_limit = get_data('(5\\.)(.+?)(6\\.)', contents, hard = True)\n",
    "visa_limit"
   ]
  },
  {
   "cell_type": "code",
   "execution_count": null,
   "id": "e0e8425a",
   "metadata": {},
   "outputs": [],
   "source": []
  },
  {
   "cell_type": "code",
   "execution_count": null,
   "id": "32b4f666",
   "metadata": {},
   "outputs": [],
   "source": []
  },
  {
   "cell_type": "code",
   "execution_count": null,
   "id": "2bfffe34",
   "metadata": {},
   "outputs": [],
   "source": []
  },
  {
   "cell_type": "code",
   "execution_count": null,
   "id": "041d4cca",
   "metadata": {},
   "outputs": [],
   "source": []
  },
  {
   "cell_type": "code",
   "execution_count": null,
   "id": "f8e7b7c8",
   "metadata": {},
   "outputs": [],
   "source": []
  },
  {
   "cell_type": "code",
   "execution_count": null,
   "id": "c05889a8",
   "metadata": {},
   "outputs": [],
   "source": []
  },
  {
   "cell_type": "code",
   "execution_count": null,
   "id": "e6307127",
   "metadata": {},
   "outputs": [],
   "source": []
  },
  {
   "cell_type": "code",
   "execution_count": null,
   "id": "07117dd9",
   "metadata": {},
   "outputs": [],
   "source": []
  },
  {
   "cell_type": "code",
   "execution_count": null,
   "id": "6a90b527",
   "metadata": {},
   "outputs": [],
   "source": []
  },
  {
   "cell_type": "code",
   "execution_count": null,
   "id": "10d5b263",
   "metadata": {
    "scrolled": true
   },
   "outputs": [],
   "source": [
    "date = get_data('\\d\\d\\s\\w{2,4}\\s\\d\\d\\d\\d', authors, 0)\n",
    "city = get_data('(1\\.)(.*?)(2\\.)', contents)\n",
    "visa_center = get_data('(2\\.)(.*?)(3\\.)', contents) \n",
    "visa_history = get_data('(4\\.)(.*?)(5\\.)', contents)\n",
    "visa_limit = get_data('(5\\.)(.+?)(6\\.)', contents, hard = True)"
   ]
  },
  {
   "cell_type": "code",
   "execution_count": null,
   "id": "8fb6b88e",
   "metadata": {
    "scrolled": true
   },
   "outputs": [],
   "source": [
    "df = pd.DataFrame()\n",
    "\n",
    "df['date'] = date\n",
    "df['city'] = city\n",
    "df['visa_center'] = visa_center\n",
    "df['visa_history'] = visa_history\n",
    "df['visa_limit'] = visa_limit\n",
    "df"
   ]
  },
  {
   "cell_type": "code",
   "execution_count": null,
   "id": "c3e9a7b1",
   "metadata": {
    "scrolled": false
   },
   "outputs": [],
   "source": [
    "df.isna().sum()"
   ]
  },
  {
   "cell_type": "code",
   "execution_count": null,
   "id": "b893d821",
   "metadata": {
    "scrolled": true
   },
   "outputs": [],
   "source": []
  },
  {
   "cell_type": "code",
   "execution_count": null,
   "id": "f28de83d",
   "metadata": {
    "scrolled": true
   },
   "outputs": [],
   "source": []
  },
  {
   "cell_type": "code",
   "execution_count": null,
   "id": "da90d31d",
   "metadata": {
    "scrolled": true
   },
   "outputs": [],
   "source": []
  }
 ],
 "metadata": {
  "kernelspec": {
   "display_name": "Python 3 (ipykernel)",
   "language": "python",
   "name": "python3"
  },
  "language_info": {
   "codemirror_mode": {
    "name": "ipython",
    "version": 3
   },
   "file_extension": ".py",
   "mimetype": "text/x-python",
   "name": "python",
   "nbconvert_exporter": "python",
   "pygments_lexer": "ipython3",
   "version": "3.9.12"
  }
 },
 "nbformat": 4,
 "nbformat_minor": 5
}
