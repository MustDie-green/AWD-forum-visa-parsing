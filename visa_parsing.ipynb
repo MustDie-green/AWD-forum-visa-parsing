{
 "cells": [
  {
   "cell_type": "code",
   "execution_count": 1,
   "id": "b23e0c52",
   "metadata": {
    "scrolled": true
   },
   "outputs": [],
   "source": [
    "import pandas as pd\n",
    "import requests\n",
    "from bs4 import BeautifulSoup as bs\n",
    "import re"
   ]
  },
  {
   "cell_type": "markdown",
   "id": "8aef8f90",
   "metadata": {},
   "source": [
    "### Функция для получения нужных страниц форума"
   ]
  },
  {
   "cell_type": "code",
   "execution_count": 2,
   "id": "6bbe0fa7",
   "metadata": {
    "scrolled": true
   },
   "outputs": [],
   "source": [
    "def parse_forum(url, starts, headers):\n",
    "    result = []\n",
    "    for start in starts:\n",
    "        request = requests.get(url = url + str(start), headers = headers)\n",
    "        result.append(bs(request.text, 'html.parser'))\n",
    "    return result"
   ]
  },
  {
   "cell_type": "markdown",
   "id": "19f1aac9",
   "metadata": {},
   "source": [
    "### Функция для спарсивания нужных кусков страницы  \n",
    "`del` нужен, чтобы удалить закрепленный опрос в начале каждой страницы, который тоже спарсивается."
   ]
  },
  {
   "cell_type": "code",
   "execution_count": 3,
   "id": "52165cda",
   "metadata": {
    "scrolled": true
   },
   "outputs": [],
   "source": [
    "def parse_soups(soups, tag, class_, delete = True):\n",
    "    result = []\n",
    "    for el in soups:\n",
    "        content = el.find_all(tag, class_ = class_)\n",
    "        if delete == True:\n",
    "            del content[0]\n",
    "        for elem in content:\n",
    "            result.append(elem.text.strip())\n",
    "    return result"
   ]
  },
  {
   "cell_type": "markdown",
   "id": "f7ae0070",
   "metadata": {},
   "source": [
    "###  Парсим все страницы форума  \n",
    "`starts` содержит номер сообщения, с которого будет начинаться страница, на странице помещается 20 сообщений.  \n",
    "Чтобы спарсить сообщения, которые появятся потом, нужно будет добавить нужные значения в список"
   ]
  },
  {
   "cell_type": "code",
   "execution_count": 4,
   "id": "c97ca190",
   "metadata": {},
   "outputs": [],
   "source": [
    "starts = [0,20, 40, 60, 80, 100, 120, 140]\n",
    "headers = {\n",
    "    'User-Agent':'Mozilla/5.0 (Macintosh; Intel Mac OS X 10_15_7) AppleWebKit/605.1.15 (KHTML, like Gecko) Version/15.5 Safari/605.1.15',\n",
    "    'cookie': '_ga_W0JDW2V29Y=GS1.1.1661181837.2.1.1661184512.60.0.0; _ga=GA1.2.1025230771.1661155454; _gid=GA1.2.721157209.1661155454; style_cookie=null; phpbb3_alft2_k=; phpbb3_alft2_sid=fa5f9f17fa55d5a1a82d62c62159899a; phpbb3_alft2_u=1'\n",
    "}\n",
    "\n",
    "soups = parse_forum('https://forum.awd.ru/viewtopic.php?f=521&t=397637&start=', starts, headers)"
   ]
  },
  {
   "cell_type": "markdown",
   "id": "76df5a05",
   "metadata": {},
   "source": [
    "### Парсим из страниц форума содержание и блок «автор», в котором содержится дата"
   ]
  },
  {
   "cell_type": "code",
   "execution_count": 5,
   "id": "93884cc8",
   "metadata": {
    "scrolled": true
   },
   "outputs": [],
   "source": [
    "contents = parse_soups(soups, 'div', 'content')\n",
    "authors = parse_soups(soups, 'p', 'author')"
   ]
  },
  {
   "cell_type": "markdown",
   "id": "a479771d",
   "metadata": {},
   "source": [
    "Проверяем, все ли ок с длиной  \n",
    "Если она соответствует количеству сообщений на форуме, то все ок\n",
    "\n",
    "*Да, пока я оформлял проект, там уже набежало больше 160 сообщений, так что чтобы спарсить новые, нужно добавить 160 в starts*"
   ]
  },
  {
   "cell_type": "code",
   "execution_count": 6,
   "id": "d5200242",
   "metadata": {
    "scrolled": true
   },
   "outputs": [
    {
     "name": "stdout",
     "output_type": "stream",
     "text": [
      "160\n",
      "160\n"
     ]
    }
   ],
   "source": [
    "print(len(contents))\n",
    "print(len(authors))"
   ]
  },
  {
   "cell_type": "markdown",
   "id": "0f4ea212",
   "metadata": {},
   "source": [
    "### Функция для парсинга конкретных данных по регулярному выражению  \n",
    "`hard = True` нужен, потому что в сообщениях по июлю много «5.», он втупую несколько раз режет оставшееся."
   ]
  },
  {
   "cell_type": "code",
   "execution_count": 7,
   "id": "5021323d",
   "metadata": {
    "scrolled": true
   },
   "outputs": [],
   "source": [
    "def get_data(regex, list, group_num = 2, hard = False, hard_regex = '(5\\.)(.*)'):\n",
    "    result = []\n",
    "    for value in list:\n",
    "        try:\n",
    "            reg = re.search(regex, value).group(group_num).strip()\n",
    "            \n",
    "            if hard == True:\n",
    "                for i in range(3):\n",
    "                    try:\n",
    "                        reg = re.search(hard_regex, reg).group(2).strip()\n",
    "                    except:\n",
    "                        break\n",
    "                        \n",
    "                        \n",
    "            result.append(reg)\n",
    "        except:\n",
    "            result.append(\"NaN\")\n",
    "    return result"
   ]
  },
  {
   "cell_type": "markdown",
   "id": "b462148b",
   "metadata": {},
   "source": [
    "### Парсим все нужные нам данные по регулярным выражениям  \n",
    "  \n",
    "Через `del` удаляем сообщение модератора, оно нам не нужно.  \n",
    "В `number` генерируем номера сообщений на форуме, чтобы не потеряться. Не так элегантно, как спарсить номера со страниц, но гораздо проще."
   ]
  },
  {
   "cell_type": "code",
   "execution_count": 8,
   "id": "10d5b263",
   "metadata": {
    "scrolled": true
   },
   "outputs": [],
   "source": [
    "date = get_data('\\d\\d\\s\\w{2,4}\\s\\d\\d\\d\\d', authors, 0)\n",
    "city = get_data('(1\\.)(.*?)(2\\.)', contents)\n",
    "visa_center = get_data('(2\\.)(.*?)(3\\.)', contents) \n",
    "raw_history = get_data('(4\\.)(.*?)(5\\.)', contents)\n",
    "raw_limit = get_data('(5\\.)(.+?)(6\\.)', contents, hard = True)\n",
    "\n",
    "del date[0]\n",
    "del city[0]\n",
    "del visa_center[0]\n",
    "del raw_history[0]\n",
    "del raw_limit[0]\n",
    "\n",
    "number = list(range(2, len(date) + 2))\n"
   ]
  },
  {
   "cell_type": "markdown",
   "id": "c1103175",
   "metadata": {},
   "source": [
    "### Категоризуем данные визовой истории  \n",
    "Хочу категоризовать на две группы:\n",
    "- По длительности;\n",
    "- По странам — Германия и не Германия.\n",
    "#### По длительности"
   ]
  },
  {
   "cell_type": "code",
   "execution_count": 10,
   "id": "1849a08a",
   "metadata": {},
   "outputs": [],
   "source": [
    "history = []\n",
    "\n",
    "for text in raw_history:\n",
    "    if (\n",
    "        'нет' in text.lower()\n",
    "        ):\n",
    "        history.append(\"Нет\")\n",
    "        \n",
    "    elif (\n",
    "        'лет' in text.lower()\n",
    "        ):\n",
    "        history.append('Годовые и больше')\n",
    "        \n",
    "    elif (\n",
    "        ('полг' not in text.lower() or\n",
    "        'пол ' not in text.lower()) and\n",
    "        'год' in text.lower()\n",
    "        ):\n",
    "        history.append('Годовые и больше')\n",
    "        \n",
    "    elif (\n",
    "        'полг' in text.lower() or\n",
    "        'пол ' in text.lower()\n",
    "        ):\n",
    "        history.append('Полугодовые')\n",
    "        \n",
    "    elif (\n",
    "        \"мес\" in text.lower()\n",
    "        ):\n",
    "        history.append('Меньше полугода')\n",
    "        \n",
    "    elif (\n",
    "        'дне' in text.lower() or\n",
    "        'кратко' in text.lower()\n",
    "        ):\n",
    "        history.append('Меньше полугода')\n",
    "        \n",
    "    elif (\n",
    "        'поезд' in text.lower()\n",
    "        ):\n",
    "        history.append('Даты поездки')\n",
    "        \n",
    "    elif (\n",
    "        'чист' in text.lower() or\n",
    "        'никогда' in text.lower() or\n",
    "        'не бы' in text.lower()\n",
    "        ):\n",
    "        history.append('Нет')\n",
    "        \n",
    "    else:\n",
    "        history.append('_Не пон_' + text)"
   ]
  },
  {
   "cell_type": "markdown",
   "id": "a61dff39",
   "metadata": {},
   "source": [
    "#### По странам\n",
    "Тут я сделал достаточно тупо, оставил больше работы на ручную проверку"
   ]
  },
  {
   "cell_type": "code",
   "execution_count": 11,
   "id": "9c70c979",
   "metadata": {},
   "outputs": [],
   "source": [
    "history_country = []\n",
    "\n",
    "for text in raw_history:\n",
    "    \n",
    "    if (\n",
    "        'немец' in text.lower() or\n",
    "        'немц' in text.lower() or\n",
    "        'герма' in text.lower() and\n",
    "        'отка' not in text.lower()\n",
    "        ):\n",
    "        history_country.append(\"Германия в истории\")\n",
    "        \n",
    "    elif (\n",
    "        'чист' in text.lower() or\n",
    "        'никогда' in text.lower() or\n",
    "        'не бы' in text.lower()\n",
    "        ):\n",
    "        history_country.append('Нет')\n",
    "        \n",
    "    else:\n",
    "        history_country.append('Другие страны')"
   ]
  },
  {
   "cell_type": "markdown",
   "id": "5595432f",
   "metadata": {},
   "source": [
    "### Категоризуем длину полученных виз"
   ]
  },
  {
   "cell_type": "code",
   "execution_count": 12,
   "id": "c3e9a7b1",
   "metadata": {
    "scrolled": true
   },
   "outputs": [],
   "source": [
    "limit = []\n",
    "\n",
    "for id, text in enumerate(raw_limit):\n",
    "    if (\n",
    "        'отказ' in text.lower()\n",
    "        ):\n",
    "        limit.append(\"Отказ\")\n",
    "        \n",
    "    elif (\n",
    "        'лет' in text.lower()\n",
    "        ):\n",
    "        limit.append('Год и больше')\n",
    "        \n",
    "    elif (\n",
    "        'пол' not in text.lower() and\n",
    "        'год' in text.lower()\n",
    "        ):\n",
    "        limit.append('Год и больше')\n",
    "        \n",
    "    elif (\n",
    "        'пол ' in text.lower() or\n",
    "        'полг' in text.lower()\n",
    "        ):\n",
    "        limit.append('Полгода')\n",
    "        \n",
    "    elif (\n",
    "        \"мес\" in text.lower()\n",
    "        ):\n",
    "        limit.append('Меньше полугода')\n",
    "        \n",
    "    elif (\n",
    "        'дне' in text.lower()\n",
    "        ):\n",
    "        limit.append('Меньше полугода')\n",
    "        \n",
    "    elif (\n",
    "        'поезд' in text.lower()\n",
    "        ):\n",
    "        limit.append('Даты поездки')\n",
    "        \n",
    "    else:\n",
    "        limit.append(str(id) +'_Не пон_' + text)"
   ]
  },
  {
   "cell_type": "markdown",
   "id": "98b72234",
   "metadata": {},
   "source": [
    "### Собираем датафрейм"
   ]
  },
  {
   "cell_type": "code",
   "execution_count": 13,
   "id": "da90d31d",
   "metadata": {},
   "outputs": [
    {
     "data": {
      "text/html": [
       "<div>\n",
       "<style scoped>\n",
       "    .dataframe tbody tr th:only-of-type {\n",
       "        vertical-align: middle;\n",
       "    }\n",
       "\n",
       "    .dataframe tbody tr th {\n",
       "        vertical-align: top;\n",
       "    }\n",
       "\n",
       "    .dataframe thead th {\n",
       "        text-align: right;\n",
       "    }\n",
       "</style>\n",
       "<table border=\"1\" class=\"dataframe\">\n",
       "  <thead>\n",
       "    <tr style=\"text-align: right;\">\n",
       "      <th></th>\n",
       "      <th>number</th>\n",
       "      <th>date</th>\n",
       "      <th>city</th>\n",
       "      <th>visa_center</th>\n",
       "      <th>history</th>\n",
       "      <th>history_country</th>\n",
       "      <th>raw_history</th>\n",
       "      <th>limit</th>\n",
       "      <th>raw_limit</th>\n",
       "    </tr>\n",
       "  </thead>\n",
       "  <tbody>\n",
       "    <tr>\n",
       "      <th>0</th>\n",
       "      <td>2</td>\n",
       "      <td>28 янв 2021</td>\n",
       "      <td>Москва</td>\n",
       "      <td>ВЦ Визаметрик</td>\n",
       "      <td>Годовые и больше</td>\n",
       "      <td>Германия в истории</td>\n",
       "      <td>виза Германии на пол года</td>\n",
       "      <td>Год и больше</td>\n",
       "      <td>1 год</td>\n",
       "    </tr>\n",
       "    <tr>\n",
       "      <th>1</th>\n",
       "      <td>3</td>\n",
       "      <td>09 мар 2021</td>\n",
       "      <td>Екатеринбург</td>\n",
       "      <td>ВЦ Визаметрик</td>\n",
       "      <td>Годовые и больше</td>\n",
       "      <td>Германия в истории</td>\n",
       "      <td>Годовые чешская и две немецкие</td>\n",
       "      <td>Год и больше</td>\n",
       "      <td>3 года</td>\n",
       "    </tr>\n",
       "    <tr>\n",
       "      <th>2</th>\n",
       "      <td>4</td>\n",
       "      <td>26 мар 2021</td>\n",
       "      <td>Москва</td>\n",
       "      <td>ВЦ Визаметрик</td>\n",
       "      <td>Годовые и больше</td>\n",
       "      <td>Другие страны</td>\n",
       "      <td>Испания, 1 год</td>\n",
       "      <td>Год и больше</td>\n",
       "      <td>3 года</td>\n",
       "    </tr>\n",
       "    <tr>\n",
       "      <th>3</th>\n",
       "      <td>5</td>\n",
       "      <td>19 май 2021</td>\n",
       "      <td>Москва</td>\n",
       "      <td>Визаметрик</td>\n",
       "      <td>Годовые и больше</td>\n",
       "      <td>Германия в истории</td>\n",
       "      <td>Чехия полгода, Германия год.</td>\n",
       "      <td>Год и больше</td>\n",
       "      <td>1 год</td>\n",
       "    </tr>\n",
       "    <tr>\n",
       "      <th>4</th>\n",
       "      <td>6</td>\n",
       "      <td>22 май 2021</td>\n",
       "      <td>Москва</td>\n",
       "      <td>Визаметрик</td>\n",
       "      <td>Нет</td>\n",
       "      <td>Нет</td>\n",
       "      <td>Не было виз</td>\n",
       "      <td>Меньше полугода</td>\n",
       "      <td>3 месяца</td>\n",
       "    </tr>\n",
       "    <tr>\n",
       "      <th>...</th>\n",
       "      <td>...</td>\n",
       "      <td>...</td>\n",
       "      <td>...</td>\n",
       "      <td>...</td>\n",
       "      <td>...</td>\n",
       "      <td>...</td>\n",
       "      <td>...</td>\n",
       "      <td>...</td>\n",
       "      <td>...</td>\n",
       "    </tr>\n",
       "    <tr>\n",
       "      <th>154</th>\n",
       "      <td>156</td>\n",
       "      <td>31 авг 2022</td>\n",
       "      <td>Москва</td>\n",
       "      <td>ВЦ Visametric</td>\n",
       "      <td>Даты поездки</td>\n",
       "      <td>Другие страны</td>\n",
       "      <td>Новый паспорт с венгерской визой под даты поез...</td>\n",
       "      <td>Год и больше</td>\n",
       "      <td>1 год (мульт), просили 5</td>\n",
       "    </tr>\n",
       "    <tr>\n",
       "      <th>155</th>\n",
       "      <td>157</td>\n",
       "      <td>31 авг 2022</td>\n",
       "      <td>Москва</td>\n",
       "      <td>ВЦ</td>\n",
       "      <td>Годовые и больше</td>\n",
       "      <td>Другие страны</td>\n",
       "      <td>В 2019 была двухлетняя латвийская, раньше тоже...</td>\n",
       "      <td>Год и больше</td>\n",
       "      <td>2 года</td>\n",
       "    </tr>\n",
       "    <tr>\n",
       "      <th>156</th>\n",
       "      <td>158</td>\n",
       "      <td>31 авг 2022</td>\n",
       "      <td>Москва</td>\n",
       "      <td>ВЦ</td>\n",
       "      <td>Годовые и больше</td>\n",
       "      <td>Нет</td>\n",
       "      <td>08. подача, 29.08. сообщение о готовности (3 р...</td>\n",
       "      <td>Год и больше</td>\n",
       "      <td>2 года (просила на 3)</td>\n",
       "    </tr>\n",
       "    <tr>\n",
       "      <th>157</th>\n",
       "      <td>159</td>\n",
       "      <td>01 сен 2022</td>\n",
       "      <td>СПб</td>\n",
       "      <td>ВЦ</td>\n",
       "      <td>Годовые и больше</td>\n",
       "      <td>Другие страны</td>\n",
       "      <td>Итальянская 2020 на полгода, греческая 2016 на...</td>\n",
       "      <td>Полгода</td>\n",
       "      <td>Пол года (просила на 3)</td>\n",
       "    </tr>\n",
       "    <tr>\n",
       "      <th>158</th>\n",
       "      <td>160</td>\n",
       "      <td>01 сен 2022</td>\n",
       "      <td>Москва;</td>\n",
       "      <td>ВЦ;</td>\n",
       "      <td>Годовые и больше</td>\n",
       "      <td>Другие страны</td>\n",
       "      <td>Я: Франция 1 год (неоткатанная), Венгрия под д...</td>\n",
       "      <td>Год и больше</td>\n",
       "      <td>2 года (обоим, девушке – в свежий паспорт);</td>\n",
       "    </tr>\n",
       "  </tbody>\n",
       "</table>\n",
       "<p>159 rows × 9 columns</p>\n",
       "</div>"
      ],
      "text/plain": [
       "     number         date          city    visa_center           history  \\\n",
       "0         2  28 янв 2021        Москва  ВЦ Визаметрик  Годовые и больше   \n",
       "1         3  09 мар 2021  Екатеринбург  ВЦ Визаметрик  Годовые и больше   \n",
       "2         4  26 мар 2021        Москва  ВЦ Визаметрик  Годовые и больше   \n",
       "3         5  19 май 2021        Москва     Визаметрик  Годовые и больше   \n",
       "4         6  22 май 2021        Москва     Визаметрик               Нет   \n",
       "..      ...          ...           ...            ...               ...   \n",
       "154     156  31 авг 2022        Москва  ВЦ Visametric      Даты поездки   \n",
       "155     157  31 авг 2022        Москва             ВЦ  Годовые и больше   \n",
       "156     158  31 авг 2022        Москва             ВЦ  Годовые и больше   \n",
       "157     159  01 сен 2022           СПб             ВЦ  Годовые и больше   \n",
       "158     160  01 сен 2022       Москва;            ВЦ;  Годовые и больше   \n",
       "\n",
       "        history_country                                        raw_history  \\\n",
       "0    Германия в истории                          виза Германии на пол года   \n",
       "1    Германия в истории                     Годовые чешская и две немецкие   \n",
       "2         Другие страны                                     Испания, 1 год   \n",
       "3    Германия в истории                       Чехия полгода, Германия год.   \n",
       "4                   Нет                                        Не было виз   \n",
       "..                  ...                                                ...   \n",
       "154       Другие страны  Новый паспорт с венгерской визой под даты поез...   \n",
       "155       Другие страны  В 2019 была двухлетняя латвийская, раньше тоже...   \n",
       "156                 Нет  08. подача, 29.08. сообщение о готовности (3 р...   \n",
       "157       Другие страны  Итальянская 2020 на полгода, греческая 2016 на...   \n",
       "158       Другие страны  Я: Франция 1 год (неоткатанная), Венгрия под д...   \n",
       "\n",
       "               limit                                    raw_limit  \n",
       "0       Год и больше                                        1 год  \n",
       "1       Год и больше                                       3 года  \n",
       "2       Год и больше                                       3 года  \n",
       "3       Год и больше                                        1 год  \n",
       "4    Меньше полугода                                     3 месяца  \n",
       "..               ...                                          ...  \n",
       "154     Год и больше                     1 год (мульт), просили 5  \n",
       "155     Год и больше                                       2 года  \n",
       "156     Год и больше                        2 года (просила на 3)  \n",
       "157          Полгода                      Пол года (просила на 3)  \n",
       "158     Год и больше  2 года (обоим, девушке – в свежий паспорт);  \n",
       "\n",
       "[159 rows x 9 columns]"
      ]
     },
     "execution_count": 13,
     "metadata": {},
     "output_type": "execute_result"
    }
   ],
   "source": [
    "df = pd.DataFrame()\n",
    "\n",
    "df['number'] = number\n",
    "df['date'] = date\n",
    "df['city'] = city\n",
    "df['visa_center'] = visa_center\n",
    "df['history'] = history\n",
    "df['history_country'] = history_country\n",
    "df['raw_history'] = raw_history\n",
    "df['limit'] = limit\n",
    "df['raw_limit'] = raw_limit\n",
    "\n",
    "\n",
    "df"
   ]
  },
  {
   "cell_type": "code",
   "execution_count": null,
   "id": "4b8d075d",
   "metadata": {},
   "outputs": [],
   "source": []
  }
 ],
 "metadata": {
  "kernelspec": {
   "display_name": "Python 3 (ipykernel)",
   "language": "python",
   "name": "python3"
  },
  "language_info": {
   "codemirror_mode": {
    "name": "ipython",
    "version": 3
   },
   "file_extension": ".py",
   "mimetype": "text/x-python",
   "name": "python",
   "nbconvert_exporter": "python",
   "pygments_lexer": "ipython3",
   "version": "3.9.12"
  }
 },
 "nbformat": 4,
 "nbformat_minor": 5
}
