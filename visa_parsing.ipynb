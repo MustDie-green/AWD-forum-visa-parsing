{
 "cells": [
  {
   "cell_type": "markdown",
   "id": "1f634830",
   "metadata": {},
   "source": [
    "# Получение данных с форума Винского\n",
    "> В этом ноутбуке я парсю сообщения из темы __[Статистика получения визы в Германию россиянами 2021/22\n",
    "](https://forum.awd.ru/viewtopic.php?%3Ef=521&t=397637)__ форума Винского, где люди рассказывают о том, какую визу они получили с какой визовой историей и тд.\n",
    ">Полученные данные я потом немного дорабатываю ~~напильником~~ руками и анализирую в ноутбуке __[germany_awd_visa_analysis.](https://github.com/MustDie-green/AWD-forum-visa-parsing/blob/main/germany_awd_visa_analysis.ipynb)__"
   ]
  },
  {
   "cell_type": "code",
   "execution_count": 1,
   "id": "b23e0c52",
   "metadata": {
    "scrolled": true
   },
   "outputs": [],
   "source": [
    "import re\n",
    "import requests\n",
    "from bs4 import BeautifulSoup\n",
    "import pandas as pd"
   ]
  },
  {
   "cell_type": "markdown",
   "id": "8aef8f90",
   "metadata": {},
   "source": [
    "### Функция для получения нужных страниц форума"
   ]
  },
  {
   "cell_type": "code",
   "execution_count": 2,
   "id": "6bbe0fa7",
   "metadata": {
    "scrolled": true
   },
   "outputs": [],
   "source": [
    "def parse_forum(url, headers):\n",
    "    result = []\n",
    "    start = 0\n",
    "    titles = []\n",
    "    \n",
    "    while True:\n",
    "        request = requests.get(url = url + str(start), headers = headers)\n",
    "        soup = BeautifulSoup(request.text, 'html.parser')\n",
    "        title = soup.find('title')\n",
    "        try:\n",
    "            last_title = titles[-1]\n",
    "        except:\n",
    "            last_title = None\n",
    "        \n",
    "        if title == last_title:\n",
    "            break\n",
    "        else:\n",
    "            result.append(soup)\n",
    "            \n",
    "        titles.append(title)\n",
    "        start +=20\n",
    "    return result"
   ]
  },
  {
   "cell_type": "markdown",
   "id": "19f1aac9",
   "metadata": {},
   "source": [
    "### Функция для спарсивания нужных кусков страницы  \n",
    "`del` нужен, чтобы удалить закрепленный опрос в начале каждой страницы, который тоже спарсивается."
   ]
  },
  {
   "cell_type": "code",
   "execution_count": 3,
   "id": "52165cda",
   "metadata": {
    "scrolled": true
   },
   "outputs": [],
   "source": [
    "def parse_soups(soups, tag, class_, delete = True):\n",
    "    result = []\n",
    "    for el in soups:\n",
    "        content = el.find_all(tag, class_ = class_)\n",
    "        \n",
    "        if delete:\n",
    "            del content[0]\n",
    "            \n",
    "        for elem in content:\n",
    "            result.append(elem.text.strip())\n",
    "    return result"
   ]
  },
  {
   "cell_type": "markdown",
   "id": "f7ae0070",
   "metadata": {},
   "source": [
    "###  Парсим нужную тему форума "
   ]
  },
  {
   "cell_type": "code",
   "execution_count": 4,
   "id": "c97ca190",
   "metadata": {},
   "outputs": [],
   "source": [
    "headers = {\n",
    "    'User-Agent':'Mozilla/5.0 (Macintosh; Intel Mac OS X 10_15_7) AppleWebKit/605.1.15 (KHTML, like Gecko) Version/15.5 Safari/605.1.15',\n",
    "    'cookie': '_ga_W0JDW2V29Y=GS1.1.1661181837.2.1.1661184512.60.0.0; _ga=GA1.2.1025230771.1661155454; _gid=GA1.2.721157209.1661155454; style_cookie=null; phpbb3_alft2_k=; phpbb3_alft2_sid=fa5f9f17fa55d5a1a82d62c62159899a; phpbb3_alft2_u=1'\n",
    "}\n",
    "\n",
    "soups = parse_forum('https://forum.awd.ru/viewtopic.php?f=521&t=397637&start=', headers)"
   ]
  },
  {
   "cell_type": "markdown",
   "id": "76df5a05",
   "metadata": {},
   "source": [
    "### Парсим из страниц форума содержание и блок «автор», в котором содержится дата"
   ]
  },
  {
   "cell_type": "code",
   "execution_count": 5,
   "id": "93884cc8",
   "metadata": {
    "scrolled": true
   },
   "outputs": [],
   "source": [
    "contents = parse_soups(soups, 'div', 'content')\n",
    "authors = parse_soups(soups, 'p', 'author')"
   ]
  },
  {
   "cell_type": "markdown",
   "id": "a479771d",
   "metadata": {},
   "source": [
    "Проверяем, все ли ок с длиной. Она должна соответствовать количеству сообщений на форуме."
   ]
  },
  {
   "cell_type": "code",
   "execution_count": 6,
   "id": "d5200242",
   "metadata": {
    "scrolled": true
   },
   "outputs": [
    {
     "name": "stdout",
     "output_type": "stream",
     "text": [
      "172\n",
      "172\n"
     ]
    }
   ],
   "source": [
    "print(len(contents))\n",
    "print(len(authors))"
   ]
  },
  {
   "cell_type": "markdown",
   "id": "0f4ea212",
   "metadata": {},
   "source": [
    "### Функция для парсинга конкретных данных по регулярному выражению  "
   ]
  },
  {
   "cell_type": "code",
   "execution_count": 7,
   "id": "ac791a8f",
   "metadata": {},
   "outputs": [],
   "source": [
    "def get_data(regex, list, group_num = 2):\n",
    "    result = []\n",
    "    for value in list:\n",
    "        reg = re.search(regex, value)\n",
    "        if reg != None:\n",
    "            result.append(reg.group(group_num).strip())\n",
    "        elif reg == None:\n",
    "            result.append('NaN')\n",
    "        else:\n",
    "            result.append('Произошло что-то странное')\n",
    "    return result"
   ]
  },
  {
   "cell_type": "markdown",
   "id": "b462148b",
   "metadata": {},
   "source": [
    "### Парсим все нужные нам данные по регулярным выражениям  \n",
    "  \n",
    "Через `del` удаляем сообщение модератора, оно нам не нужно.  \n",
    "В `number` генерируем номера сообщений на форуме, чтобы не потеряться. Не так элегантно, как спарсить номера со страниц, но гораздо проще.  \n",
    "В регулярке есть важный момент — иногда люди пишут в середине каких-то строк дату типа «11.05.2022 получили визу», регулярки прописаны так, чтобы ловить куски от самой последней начальной цифры с точкой до самой первой конечной цифры с точкой. Так чаще всего оно ловит то, что нужно."
   ]
  },
  {
   "cell_type": "code",
   "execution_count": 8,
   "id": "2387f8bf",
   "metadata": {},
   "outputs": [],
   "source": [
    "date = get_data('\\d\\d\\s\\w{2,4}\\s\\d\\d\\d\\d', authors, 0)\n",
    "city = get_data('(1\\.)(((?!1\\.).)*?)(2\\.)', contents)\n",
    "visa_center = get_data('(2\\.)(((?!2\\.).)*?)(3\\.)', contents) \n",
    "raw_history = get_data('(4\\.)(((?!4\\.).)*?)(5\\.)', contents)\n",
    "raw_limit = get_data('(5\\.)(((?!5\\.).)*?)(6\\.)', contents)\n",
    "\n",
    "del date[0]\n",
    "del city[0]\n",
    "del visa_center[0]\n",
    "del raw_history[0]\n",
    "del raw_limit[0]\n",
    "\n",
    "number = list(range(2, len(date) + 2))\n"
   ]
  },
  {
   "cell_type": "markdown",
   "id": "c1103175",
   "metadata": {},
   "source": [
    "### Категоризуем данные визовой истории  \n",
    "Хочу категоризовать на две группы:\n",
    "- По длительности;\n",
    "- По странам — Германия и не Германия."
   ]
  },
  {
   "cell_type": "markdown",
   "id": "5c487502",
   "metadata": {},
   "source": [
    "#### По длительности"
   ]
  },
  {
   "cell_type": "code",
   "execution_count": 21,
   "id": "1849a08a",
   "metadata": {},
   "outputs": [],
   "source": [
    "history = []\n",
    "\n",
    "for text in raw_history:\n",
    "    text = text.lower()\n",
    "    if (\n",
    "        'нет' in text\n",
    "        ):\n",
    "        history.append(\"Нет\")\n",
    "        \n",
    "    elif (\n",
    "        'полг' in text or\n",
    "        'пол ' in text\n",
    "        ):\n",
    "        history.append('Полугодовые')\n",
    "    \n",
    "    elif (\n",
    "        'лет' in text\n",
    "        ):\n",
    "        history.append('Годовые и больше')\n",
    "        \n",
    "    elif 'год' in text:\n",
    "        history.append('Годовые и больше')\n",
    "        \n",
    "    elif (\n",
    "        \"мес\" in text\n",
    "        ):\n",
    "        history.append('Меньше полугода')\n",
    "        \n",
    "    elif (\n",
    "        'дней' in text or\n",
    "        'кратко' in text or\n",
    "        'дня' in text\n",
    "        ):\n",
    "        history.append('Меньше полугода')\n",
    "        \n",
    "    elif (\n",
    "        'поездк' in text\n",
    "        ):\n",
    "        history.append('Даты поездки')\n",
    "        \n",
    "    elif (\n",
    "        'чист' in text or\n",
    "        'никогда' in text or\n",
    "        'не бы' in text\n",
    "        ):\n",
    "        history.append('Нет')\n",
    "        \n",
    "    else:\n",
    "        history.append('_Не пон_' + text)"
   ]
  },
  {
   "cell_type": "markdown",
   "id": "a61dff39",
   "metadata": {},
   "source": [
    "### По странам\n",
    "Тут я сделал достаточно тупо, оставил больше работы на ручную проверку."
   ]
  },
  {
   "cell_type": "code",
   "execution_count": 10,
   "id": "9c70c979",
   "metadata": {},
   "outputs": [],
   "source": [
    "history_country = []\n",
    "\n",
    "for text in raw_history:\n",
    "    text = text.lower()\n",
    "    if (\n",
    "        'немец' in text or\n",
    "        'немц' in text or\n",
    "        'герма' in text and\n",
    "        'отка' not in text\n",
    "        ):\n",
    "        history_country.append(\"Германия в истории\")\n",
    "        \n",
    "    elif (\n",
    "        'чист' in text or\n",
    "        'никогда' in text or\n",
    "        'не бы' in text\n",
    "        ):\n",
    "        history_country.append('Нет')\n",
    "        \n",
    "    else:\n",
    "        history_country.append('Другие страны')"
   ]
  },
  {
   "cell_type": "markdown",
   "id": "5595432f",
   "metadata": {},
   "source": [
    "### Категоризуем длину полученных виз"
   ]
  },
  {
   "cell_type": "code",
   "execution_count": 11,
   "id": "c3e9a7b1",
   "metadata": {
    "scrolled": true
   },
   "outputs": [],
   "source": [
    "limit = []\n",
    "\n",
    "for id, text in enumerate(raw_limit):\n",
    "    text = text.lower()\n",
    "    if (\n",
    "        'отказ' in text\n",
    "        ):\n",
    "        limit.append(\"Отказ\")\n",
    "        \n",
    "    elif (\n",
    "        'лет' in text\n",
    "        ):\n",
    "        limit.append('Год и больше')\n",
    "        \n",
    "    elif (\n",
    "        'пол' not in text and\n",
    "        'год' in text\n",
    "        ):\n",
    "        limit.append('Год и больше')\n",
    "        \n",
    "    elif (\n",
    "        'пол ' in text or\n",
    "        'полг' in text\n",
    "        ):\n",
    "        limit.append('Полгода')\n",
    "        \n",
    "    elif (\n",
    "        \"мес\" in text\n",
    "        ):\n",
    "        limit.append('Меньше полугода')\n",
    "        \n",
    "    elif (\n",
    "        'дне' in text\n",
    "        ):\n",
    "        limit.append('Меньше полугода')\n",
    "        \n",
    "    elif (\n",
    "        'поезд' in text\n",
    "        ):\n",
    "        limit.append('Даты поездки')\n",
    "        \n",
    "    else:\n",
    "        limit.append(str(id) +'_Не пон_' + text)"
   ]
  },
  {
   "cell_type": "markdown",
   "id": "98b72234",
   "metadata": {},
   "source": [
    "### Собираем и сохраняем датафрейм"
   ]
  },
  {
   "cell_type": "code",
   "execution_count": 22,
   "id": "da90d31d",
   "metadata": {},
   "outputs": [
    {
     "data": {
      "text/html": [
       "<div>\n",
       "<style scoped>\n",
       "    .dataframe tbody tr th:only-of-type {\n",
       "        vertical-align: middle;\n",
       "    }\n",
       "\n",
       "    .dataframe tbody tr th {\n",
       "        vertical-align: top;\n",
       "    }\n",
       "\n",
       "    .dataframe thead th {\n",
       "        text-align: right;\n",
       "    }\n",
       "</style>\n",
       "<table border=\"1\" class=\"dataframe\">\n",
       "  <thead>\n",
       "    <tr style=\"text-align: right;\">\n",
       "      <th></th>\n",
       "      <th>number</th>\n",
       "      <th>date</th>\n",
       "      <th>city</th>\n",
       "      <th>visa_center</th>\n",
       "      <th>history</th>\n",
       "      <th>history_country</th>\n",
       "      <th>raw_history</th>\n",
       "      <th>limit</th>\n",
       "      <th>raw_limit</th>\n",
       "    </tr>\n",
       "  </thead>\n",
       "  <tbody>\n",
       "    <tr>\n",
       "      <th>0</th>\n",
       "      <td>2</td>\n",
       "      <td>28 янв 2021</td>\n",
       "      <td>Москва</td>\n",
       "      <td>ВЦ Визаметрик</td>\n",
       "      <td>Полугодовые</td>\n",
       "      <td>Германия в истории</td>\n",
       "      <td>виза Германии на пол года</td>\n",
       "      <td>Год и больше</td>\n",
       "      <td>1 год</td>\n",
       "    </tr>\n",
       "    <tr>\n",
       "      <th>1</th>\n",
       "      <td>3</td>\n",
       "      <td>09 мар 2021</td>\n",
       "      <td>Екатеринбург</td>\n",
       "      <td>ВЦ Визаметрик</td>\n",
       "      <td>Годовые и больше</td>\n",
       "      <td>Германия в истории</td>\n",
       "      <td>Годовые чешская и две немецкие</td>\n",
       "      <td>Год и больше</td>\n",
       "      <td>3 года</td>\n",
       "    </tr>\n",
       "    <tr>\n",
       "      <th>2</th>\n",
       "      <td>4</td>\n",
       "      <td>26 мар 2021</td>\n",
       "      <td>Москва</td>\n",
       "      <td>ВЦ Визаметрик</td>\n",
       "      <td>Годовые и больше</td>\n",
       "      <td>Другие страны</td>\n",
       "      <td>Испания, 1 год</td>\n",
       "      <td>Год и больше</td>\n",
       "      <td>3 года</td>\n",
       "    </tr>\n",
       "    <tr>\n",
       "      <th>3</th>\n",
       "      <td>5</td>\n",
       "      <td>19 май 2021</td>\n",
       "      <td>Москва</td>\n",
       "      <td>Визаметрик</td>\n",
       "      <td>Полугодовые</td>\n",
       "      <td>Германия в истории</td>\n",
       "      <td>Чехия полгода, Германия год.</td>\n",
       "      <td>Год и больше</td>\n",
       "      <td>1 год</td>\n",
       "    </tr>\n",
       "    <tr>\n",
       "      <th>4</th>\n",
       "      <td>6</td>\n",
       "      <td>22 май 2021</td>\n",
       "      <td>Москва</td>\n",
       "      <td>Визаметрик</td>\n",
       "      <td>Нет</td>\n",
       "      <td>Нет</td>\n",
       "      <td>Не было виз</td>\n",
       "      <td>Меньше полугода</td>\n",
       "      <td>3 месяца</td>\n",
       "    </tr>\n",
       "    <tr>\n",
       "      <th>...</th>\n",
       "      <td>...</td>\n",
       "      <td>...</td>\n",
       "      <td>...</td>\n",
       "      <td>...</td>\n",
       "      <td>...</td>\n",
       "      <td>...</td>\n",
       "      <td>...</td>\n",
       "      <td>...</td>\n",
       "      <td>...</td>\n",
       "    </tr>\n",
       "    <tr>\n",
       "      <th>166</th>\n",
       "      <td>168</td>\n",
       "      <td>NaN</td>\n",
       "      <td>Москва</td>\n",
       "      <td>ВЦ Visametric на Киевской</td>\n",
       "      <td>Годовые и больше</td>\n",
       "      <td>Другие страны</td>\n",
       "      <td>Италия в 2020 году до пандемии однократная на ...</td>\n",
       "      <td>Меньше полугода</td>\n",
       "      <td>6 месяцев мульти, 90 дней пребывания, как и пр...</td>\n",
       "    </tr>\n",
       "    <tr>\n",
       "      <th>167</th>\n",
       "      <td>169</td>\n",
       "      <td>NaN</td>\n",
       "      <td>Москва</td>\n",
       "      <td>ВЦ</td>\n",
       "      <td>Полугодовые</td>\n",
       "      <td>Германия в истории</td>\n",
       "      <td>Германия под даты (2019), Чехия 1 год (2019-20...</td>\n",
       "      <td>Год и больше</td>\n",
       "      <td>Год</td>\n",
       "    </tr>\n",
       "    <tr>\n",
       "      <th>168</th>\n",
       "      <td>170</td>\n",
       "      <td>NaN</td>\n",
       "      <td>Москва</td>\n",
       "      <td>Visametric на Киевской</td>\n",
       "      <td>Годовые и больше</td>\n",
       "      <td>Другие страны</td>\n",
       "      <td>2019 Нидерланды на год</td>\n",
       "      <td>Год и больше</td>\n",
       "      <td>год</td>\n",
       "    </tr>\n",
       "    <tr>\n",
       "      <th>169</th>\n",
       "      <td>171</td>\n",
       "      <td>NaN</td>\n",
       "      <td>Москва</td>\n",
       "      <td>ВЦ</td>\n",
       "      <td>Годовые и больше</td>\n",
       "      <td>Германия в истории</td>\n",
       "      <td>За последние 3 года: немецкая виза (11.19-11.2...</td>\n",
       "      <td>Год и больше</td>\n",
       "      <td>2 года</td>\n",
       "    </tr>\n",
       "    <tr>\n",
       "      <th>170</th>\n",
       "      <td>172</td>\n",
       "      <td>NaN</td>\n",
       "      <td>Новосибирск</td>\n",
       "      <td>ВЦ Visametric</td>\n",
       "      <td>Годовые и больше</td>\n",
       "      <td>Германия в истории</td>\n",
       "      <td>Новый паспорт без виз, в старом паспорте были ...</td>\n",
       "      <td>Год и больше</td>\n",
       "      <td>5 лет, как просила</td>\n",
       "    </tr>\n",
       "  </tbody>\n",
       "</table>\n",
       "<p>171 rows × 9 columns</p>\n",
       "</div>"
      ],
      "text/plain": [
       "     number         date          city                visa_center  \\\n",
       "0         2  28 янв 2021        Москва              ВЦ Визаметрик   \n",
       "1         3  09 мар 2021  Екатеринбург              ВЦ Визаметрик   \n",
       "2         4  26 мар 2021        Москва              ВЦ Визаметрик   \n",
       "3         5  19 май 2021        Москва                 Визаметрик   \n",
       "4         6  22 май 2021        Москва                 Визаметрик   \n",
       "..      ...          ...           ...                        ...   \n",
       "166     168          NaN        Москва  ВЦ Visametric на Киевской   \n",
       "167     169          NaN        Москва                         ВЦ   \n",
       "168     170          NaN        Москва     Visametric на Киевской   \n",
       "169     171          NaN        Москва                         ВЦ   \n",
       "170     172          NaN   Новосибирск              ВЦ Visametric   \n",
       "\n",
       "              history     history_country  \\\n",
       "0         Полугодовые  Германия в истории   \n",
       "1    Годовые и больше  Германия в истории   \n",
       "2    Годовые и больше       Другие страны   \n",
       "3         Полугодовые  Германия в истории   \n",
       "4                 Нет                 Нет   \n",
       "..                ...                 ...   \n",
       "166  Годовые и больше       Другие страны   \n",
       "167       Полугодовые  Германия в истории   \n",
       "168  Годовые и больше       Другие страны   \n",
       "169  Годовые и больше  Германия в истории   \n",
       "170  Годовые и больше  Германия в истории   \n",
       "\n",
       "                                           raw_history            limit  \\\n",
       "0                            виза Германии на пол года     Год и больше   \n",
       "1                       Годовые чешская и две немецкие     Год и больше   \n",
       "2                                       Испания, 1 год     Год и больше   \n",
       "3                         Чехия полгода, Германия год.     Год и больше   \n",
       "4                                          Не было виз  Меньше полугода   \n",
       "..                                                 ...              ...   \n",
       "166  Италия в 2020 году до пандемии однократная на ...  Меньше полугода   \n",
       "167  Германия под даты (2019), Чехия 1 год (2019-20...     Год и больше   \n",
       "168                             2019 Нидерланды на год     Год и больше   \n",
       "169  За последние 3 года: немецкая виза (11.19-11.2...     Год и больше   \n",
       "170  Новый паспорт без виз, в старом паспорте были ...     Год и больше   \n",
       "\n",
       "                                             raw_limit  \n",
       "0                                                1 год  \n",
       "1                                               3 года  \n",
       "2                                               3 года  \n",
       "3                                                1 год  \n",
       "4                                             3 месяца  \n",
       "..                                                 ...  \n",
       "166  6 месяцев мульти, 90 дней пребывания, как и пр...  \n",
       "167                                                Год  \n",
       "168                                                год  \n",
       "169                                             2 года  \n",
       "170                                 5 лет, как просила  \n",
       "\n",
       "[171 rows x 9 columns]"
      ]
     },
     "execution_count": 22,
     "metadata": {},
     "output_type": "execute_result"
    }
   ],
   "source": [
    "df = pd.DataFrame()\n",
    "\n",
    "df['number'] = number\n",
    "df['date'] = date\n",
    "df['city'] = city\n",
    "df['visa_center'] = visa_center\n",
    "df['history'] = history\n",
    "df['history_country'] = history_country\n",
    "df['raw_history'] = raw_history\n",
    "df['limit'] = limit\n",
    "df['raw_limit'] = raw_limit\n",
    "\n",
    "df.to_csv('raw_data.csv')\n",
    "\n",
    "df"
   ]
  },
  {
   "cell_type": "markdown",
   "id": "a3027670",
   "metadata": {},
   "source": [
    "#### Все!\n",
    "Дальше немного доработал датафрейм вручную и отправился в ноутбук __[germany_awd_visa_analysis](https://github.com/MustDie-green/AWD-forum-visa-parsing/blob/main/germany_awd_visa_analysis.ipynb)__, где анализирую, что же у нас (и у людей с форума) получилось."
   ]
  }
 ],
 "metadata": {
  "kernelspec": {
   "display_name": "Python 3 (ipykernel)",
   "language": "python",
   "name": "python3"
  },
  "language_info": {
   "codemirror_mode": {
    "name": "ipython",
    "version": 3
   },
   "file_extension": ".py",
   "mimetype": "text/x-python",
   "name": "python",
   "nbconvert_exporter": "python",
   "pygments_lexer": "ipython3",
   "version": "3.9.12"
  },
  "toc": {
   "base_numbering": 1,
   "nav_menu": {},
   "number_sections": true,
   "sideBar": true,
   "skip_h1_title": false,
   "title_cell": "Table of Contents",
   "title_sidebar": "Contents",
   "toc_cell": false,
   "toc_position": {},
   "toc_section_display": true,
   "toc_window_display": false
  }
 },
 "nbformat": 4,
 "nbformat_minor": 5
}
