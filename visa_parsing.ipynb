{
 "cells": [
  {
   "cell_type": "code",
   "execution_count": null,
   "id": "b23e0c52",
   "metadata": {
    "scrolled": true
   },
   "outputs": [],
   "source": [
    "import pandas as pd\n",
    "import seaborn as sns\n",
    "import requests\n",
    "from bs4 import BeautifulSoup as bs\n",
    "import re\n",
    "from dfply import *\n",
    "import matplotlib.pyplot as plt\n",
    "import matplotlib as mpl\n",
    "\n"
   ]
  },
  {
   "cell_type": "markdown",
   "id": "8aef8f90",
   "metadata": {},
   "source": [
    "### Функция для получения нужных страниц форума"
   ]
  },
  {
   "cell_type": "code",
   "execution_count": null,
   "id": "6bbe0fa7",
   "metadata": {
    "scrolled": true
   },
   "outputs": [],
   "source": [
    "def parse_forum(url, starts, headers):\n",
    "    result = []\n",
    "    for start in starts:\n",
    "        request = requests.get(url = url + str(start), headers = headers)\n",
    "        result.append(bs(request.text, 'html.parser'))\n",
    "    return result"
   ]
  },
  {
   "cell_type": "markdown",
   "id": "19f1aac9",
   "metadata": {},
   "source": [
    "### Функция для спарсивания нужных кусков страницы  \n",
    "(del нужно, потому что на каждой странице вверху есть опрос, который тоже спарсивается, но не нужен)"
   ]
  },
  {
   "cell_type": "code",
   "execution_count": null,
   "id": "52165cda",
   "metadata": {
    "scrolled": true
   },
   "outputs": [],
   "source": [
    "def parse_soups(soups, tag, class_, delete = True):\n",
    "    result = []\n",
    "    for el in soups:\n",
    "        content = el.find_all(tag, class_ = class_)\n",
    "        if delete == True:\n",
    "            del content[0]\n",
    "        for elem in content:\n",
    "            result.append(elem.text.strip())\n",
    "    return result"
   ]
  },
  {
   "cell_type": "markdown",
   "id": "f7ae0070",
   "metadata": {},
   "source": [
    "###  Парсим все страницы форума  \n",
    "starts содержит номер сообщения, с которого будет начинаться страница, на странице помещается 20 сообщений.  \n",
    "Чтобы спарсить сообщения, которые появятся потом, нужно будет добавить нужные значения в список"
   ]
  },
  {
   "cell_type": "code",
   "execution_count": null,
   "id": "c97ca190",
   "metadata": {},
   "outputs": [],
   "source": [
    "starts = [0,20, 40, 60, 80, 100, 120, 140]\n",
    "headers = {\n",
    "    'User-Agent':'Mozilla/5.0 (Macintosh; Intel Mac OS X 10_15_7) AppleWebKit/605.1.15 (KHTML, like Gecko) Version/15.5 Safari/605.1.15',\n",
    "    'cookie': '_ga_W0JDW2V29Y=GS1.1.1661181837.2.1.1661184512.60.0.0; _ga=GA1.2.1025230771.1661155454; _gid=GA1.2.721157209.1661155454; style_cookie=null; phpbb3_alft2_k=; phpbb3_alft2_sid=fa5f9f17fa55d5a1a82d62c62159899a; phpbb3_alft2_u=1'\n",
    "}\n",
    "\n",
    "soups = parse_forum('https://forum.awd.ru/viewtopic.php?f=521&t=397637&start=', starts, headers)"
   ]
  },
  {
   "cell_type": "markdown",
   "id": "76df5a05",
   "metadata": {},
   "source": [
    "### Парсим из страниц форума содержание и блок «автор», в котором содержится дата"
   ]
  },
  {
   "cell_type": "code",
   "execution_count": null,
   "id": "93884cc8",
   "metadata": {
    "scrolled": true
   },
   "outputs": [],
   "source": [
    "contents = parse_soups(soups, 'div', 'content')\n",
    "authors = parse_soups(soups, 'p', 'author')"
   ]
  },
  {
   "cell_type": "markdown",
   "id": "a479771d",
   "metadata": {},
   "source": [
    "Проверяем, все ли ок с длиной  \n",
    "Если она соответствует количеству сообщений на форуме, то все ок"
   ]
  },
  {
   "cell_type": "code",
   "execution_count": null,
   "id": "d5200242",
   "metadata": {
    "scrolled": true
   },
   "outputs": [],
   "source": [
    "print(len(contents))\n",
    "print(len(authors))"
   ]
  },
  {
   "cell_type": "markdown",
   "id": "0f4ea212",
   "metadata": {},
   "source": [
    "### Функция для парсинга конкретных данных по регулярному выражению  \n",
    "Айди нужен, чтобы потом вручную прописать данные, которые не спарсятся, и не потерять порядок людей\n",
    "hard = True нужен, потому что в сообщениях по июлю много «5.», он втупую несколько раз режет оставшееся"
   ]
  },
  {
   "cell_type": "code",
   "execution_count": null,
   "id": "5021323d",
   "metadata": {
    "scrolled": true
   },
   "outputs": [],
   "source": [
    "def get_data(regex, list, group_num = 2, hard = False, hard_regex = '(5\\.)(.*)'):\n",
    "    result = []\n",
    "    for value in list:\n",
    "        try:\n",
    "            reg = re.search(regex, value).group(group_num).strip()\n",
    "            \n",
    "            if hard == True:\n",
    "                for i in range(3):\n",
    "                    try:\n",
    "                        reg = re.search(hard_regex, reg).group(2).strip()\n",
    "                    except:\n",
    "                        break\n",
    "                        \n",
    "                        \n",
    "            result.append(reg)\n",
    "        except:\n",
    "            result.append(\" NaN\")\n",
    "    return result"
   ]
  },
  {
   "cell_type": "markdown",
   "id": "b462148b",
   "metadata": {},
   "source": [
    "### Парсим все нужные нам данные по регулярным выражениям  \n",
    "  \n",
    "Через del удаляем первые строки на каждой странице — в них содержится закрепленное сообщение модератора"
   ]
  },
  {
   "cell_type": "code",
   "execution_count": null,
   "id": "10d5b263",
   "metadata": {
    "scrolled": true
   },
   "outputs": [],
   "source": [
    "date = get_data('\\d\\d\\s\\w{2,4}\\s\\d\\d\\d\\d', authors, 0)\n",
    "city = get_data('(1\\.)(.*?)(2\\.)', contents)\n",
    "visa_center = get_data('(2\\.)(.*?)(3\\.)', contents) \n",
    "raw_history = get_data('(4\\.)(.*?)(5\\.)', contents)\n",
    "raw_limit = get_data('(5\\.)(.+?)(6\\.)', contents, hard = True)\n",
    "\n",
    "del date[0]\n",
    "del city[0]\n",
    "del visa_center[0]\n",
    "del raw_history[0]\n",
    "del raw_limit[0]\n",
    "\n",
    "number = list(range(2, len(date) + 2))\n"
   ]
  },
  {
   "cell_type": "markdown",
   "id": "c1103175",
   "metadata": {},
   "source": [
    "### Категоризуем данные визовой истории  \n",
    "Хочу категоризовать на две группы:\n",
    "- По длительности;\n",
    "- По странам — Германия и не Германия.\n",
    "#### По длительности"
   ]
  },
  {
   "cell_type": "code",
   "execution_count": null,
   "id": "1849a08a",
   "metadata": {},
   "outputs": [],
   "source": [
    "history = []\n",
    "\n",
    "for text in raw_history:\n",
    "    if (\n",
    "        'нет' in text.lower()\n",
    "        ):\n",
    "        history.append(\"Нет\")\n",
    "        \n",
    "    elif (\n",
    "        'лет' in text.lower()\n",
    "        ):\n",
    "        history.append('Годовые и больше')\n",
    "        \n",
    "    elif (\n",
    "        ('полг' not in text.lower() or\n",
    "        'пол ' not in text.lower()) and\n",
    "        'год' in text.lower()\n",
    "        ):\n",
    "        history.append('Годовые и больше')\n",
    "        \n",
    "    elif (\n",
    "        'полг' in text.lower() or\n",
    "        'пол ' in text.lower()\n",
    "        ):\n",
    "        history.append('Полугодовые')\n",
    "        \n",
    "    elif (\n",
    "        \"мес\" in text.lower()\n",
    "        ):\n",
    "        history.append('Меньше полугода')\n",
    "        \n",
    "    elif (\n",
    "        'дне' in text.lower() or\n",
    "        'кратко' in text.lower()\n",
    "        ):\n",
    "        history.append('Меньше полугода')\n",
    "        \n",
    "    elif (\n",
    "        'поезд' in text.lower()\n",
    "        ):\n",
    "        history.append('Даты поездки')\n",
    "        \n",
    "    elif (\n",
    "        'чист' in text.lower() or\n",
    "        'никогда' in text.lower() or\n",
    "        'не бы' in text.lower()\n",
    "        ):\n",
    "        history.append('Нет')\n",
    "        \n",
    "    else:\n",
    "        history.append('_Не пон_' + text)\n",
    "        \n",
    "history\n",
    "\n",
    "        \n",
    "\n"
   ]
  },
  {
   "cell_type": "markdown",
   "id": "a61dff39",
   "metadata": {},
   "source": [
    "#### По странам\n",
    "Тут я сделал достаточно тупо, оставил больше работы на ручную проверку"
   ]
  },
  {
   "cell_type": "code",
   "execution_count": null,
   "id": "9c70c979",
   "metadata": {},
   "outputs": [],
   "source": [
    "history_country = []\n",
    "\n",
    "for text in raw_history:\n",
    "    \n",
    "    if (\n",
    "        'немец' in text.lower() or\n",
    "        'немц' in text.lower() or\n",
    "        'герма' in text.lower() and\n",
    "        'отка' not in text.lower()\n",
    "        ):\n",
    "        history_country.append(\"Германия в истории\")\n",
    "        \n",
    "    elif (\n",
    "        'чист' in text.lower() or\n",
    "        'никогда' in text.lower() or\n",
    "        'не бы' in text.lower()\n",
    "        ):\n",
    "        history_country.append('Нет')\n",
    "        \n",
    "    else:\n",
    "        history_country.append('Другие страны')\n",
    "        \n",
    "history_country\n",
    "        \n",
    "\n",
    "\n"
   ]
  },
  {
   "cell_type": "markdown",
   "id": "5595432f",
   "metadata": {},
   "source": [
    "### Категоризуем длину полученных виз"
   ]
  },
  {
   "cell_type": "code",
   "execution_count": null,
   "id": "c3e9a7b1",
   "metadata": {
    "scrolled": true
   },
   "outputs": [],
   "source": [
    "limit = []\n",
    "\n",
    "for id, text in enumerate(raw_limit):\n",
    "    if (\n",
    "        'отказ' in text.lower()\n",
    "        ):\n",
    "        limit.append(\"Отказ\")\n",
    "        \n",
    "    elif (\n",
    "        'лет' in text.lower()\n",
    "        ):\n",
    "        limit.append('Год и больше')\n",
    "        \n",
    "    elif (\n",
    "        'пол' not in text.lower() and\n",
    "        'год' in text.lower()\n",
    "        ):\n",
    "        limit.append('Год и больше')\n",
    "        \n",
    "    elif (\n",
    "        'пол ' in text.lower() or\n",
    "        'полг' in text.lower()\n",
    "        ):\n",
    "        limit.append('Полгода')\n",
    "        \n",
    "    elif (\n",
    "        \"мес\" in text.lower()\n",
    "        ):\n",
    "        limit.append('Меньше полугода')\n",
    "        \n",
    "    elif (\n",
    "        'дне' in text.lower()\n",
    "        ):\n",
    "        limit.append('Меньше полугода')\n",
    "        \n",
    "    elif (\n",
    "        'поезд' in text.lower()\n",
    "        ):\n",
    "        limit.append('Даты поездки')\n",
    "        \n",
    "    else:\n",
    "        limit.append(str(id) +'_Не пон_' + text)\n",
    "        \n",
    "limit\n",
    "\n",
    "        \n"
   ]
  },
  {
   "cell_type": "markdown",
   "id": "98b72234",
   "metadata": {},
   "source": [
    "### Собираем датафрейм"
   ]
  },
  {
   "cell_type": "code",
   "execution_count": null,
   "id": "da90d31d",
   "metadata": {},
   "outputs": [],
   "source": [
    "df = pd.DataFrame()\n",
    "\n",
    "df['number'] = number\n",
    "df['date'] = date\n",
    "df['city'] = city\n",
    "df['visa_center'] = visa_center\n",
    "df['history'] = history\n",
    "df['history_country'] = history_country\n",
    "df['raw_history'] = raw_history\n",
    "df['limit'] = limit\n",
    "df['raw_limit'] = raw_limit\n",
    "\n",
    "\n",
    "df"
   ]
  },
  {
   "cell_type": "markdown",
   "id": "0bbabb6c",
   "metadata": {},
   "source": [
    "# Анализируем  \n",
    "Несколько пассов руками, где-то час ручной проверки и доработки данных — можно анализировать.  \n",
    "Сразу же отфильтровываем людей, которые получали визы до того, как Германия начала широко выдавать туристические  \n",
    "\n",
    ">Здесь и дальше я много использую библиотеку dfply, которая переносит опыт R-программинга в Python  \n",
    ">Мой первый язык R, если вы ничего о нем не знаете, не пугайтесь :)"
   ]
  },
  {
   "cell_type": "code",
   "execution_count": 644,
   "id": "6939a214",
   "metadata": {},
   "outputs": [
    {
     "data": {
      "text/html": [
       "<div>\n",
       "<style scoped>\n",
       "    .dataframe tbody tr th:only-of-type {\n",
       "        vertical-align: middle;\n",
       "    }\n",
       "\n",
       "    .dataframe tbody tr th {\n",
       "        vertical-align: top;\n",
       "    }\n",
       "\n",
       "    .dataframe thead th {\n",
       "        text-align: right;\n",
       "    }\n",
       "</style>\n",
       "<table border=\"1\" class=\"dataframe\">\n",
       "  <thead>\n",
       "    <tr style=\"text-align: right;\">\n",
       "      <th></th>\n",
       "      <th>message_number</th>\n",
       "      <th>date</th>\n",
       "      <th>city</th>\n",
       "      <th>visa_center</th>\n",
       "      <th>history</th>\n",
       "      <th>history_country</th>\n",
       "      <th>limit</th>\n",
       "    </tr>\n",
       "  </thead>\n",
       "  <tbody>\n",
       "    <tr>\n",
       "      <th>31</th>\n",
       "      <td>34</td>\n",
       "      <td>03 июн 2022</td>\n",
       "      <td>Калининград</td>\n",
       "      <td>ВЦ визаметрик</td>\n",
       "      <td>Годовые и больше</td>\n",
       "      <td>Другие страны</td>\n",
       "      <td>Год и больше</td>\n",
       "    </tr>\n",
       "    <tr>\n",
       "      <th>32</th>\n",
       "      <td>35</td>\n",
       "      <td>10 июн 2022</td>\n",
       "      <td>Санкт-Петербург</td>\n",
       "      <td>ВЦ Визаметрик</td>\n",
       "      <td>Нет</td>\n",
       "      <td>Нет</td>\n",
       "      <td>Даты поездки</td>\n",
       "    </tr>\n",
       "    <tr>\n",
       "      <th>33</th>\n",
       "      <td>36</td>\n",
       "      <td>12 июн 2022</td>\n",
       "      <td>Москва</td>\n",
       "      <td>ВЦ визаметрик</td>\n",
       "      <td>Годовые и больше</td>\n",
       "      <td>Другие страны</td>\n",
       "      <td>Год и больше</td>\n",
       "    </tr>\n",
       "    <tr>\n",
       "      <th>34</th>\n",
       "      <td>37</td>\n",
       "      <td>15 июн 2022</td>\n",
       "      <td>Екатеринбург</td>\n",
       "      <td>Визовый центр</td>\n",
       "      <td>Годовые и больше</td>\n",
       "      <td>Германия в истории</td>\n",
       "      <td>Год и больше</td>\n",
       "    </tr>\n",
       "    <tr>\n",
       "      <th>35</th>\n",
       "      <td>38</td>\n",
       "      <td>21 июн 2022</td>\n",
       "      <td>Москва</td>\n",
       "      <td>ВЦ</td>\n",
       "      <td>Годовые и больше</td>\n",
       "      <td>Другие страны</td>\n",
       "      <td>Год и больше</td>\n",
       "    </tr>\n",
       "    <tr>\n",
       "      <th>...</th>\n",
       "      <td>...</td>\n",
       "      <td>...</td>\n",
       "      <td>...</td>\n",
       "      <td>...</td>\n",
       "      <td>...</td>\n",
       "      <td>...</td>\n",
       "      <td>...</td>\n",
       "    </tr>\n",
       "    <tr>\n",
       "      <th>148</th>\n",
       "      <td>152</td>\n",
       "      <td>31 авг 2022</td>\n",
       "      <td>Москва</td>\n",
       "      <td>ВЦ Visametric</td>\n",
       "      <td>Меньше полугода</td>\n",
       "      <td>Германия в истории</td>\n",
       "      <td>Год и больше</td>\n",
       "    </tr>\n",
       "    <tr>\n",
       "      <th>149</th>\n",
       "      <td>153</td>\n",
       "      <td>31 авг 2022</td>\n",
       "      <td>Москва</td>\n",
       "      <td>ВЦ Visametric</td>\n",
       "      <td>Годовые и больше</td>\n",
       "      <td>Германия в истории</td>\n",
       "      <td>Год и больше</td>\n",
       "    </tr>\n",
       "    <tr>\n",
       "      <th>150</th>\n",
       "      <td>154</td>\n",
       "      <td>31 авг 2022</td>\n",
       "      <td>Москва</td>\n",
       "      <td>Визаметрик</td>\n",
       "      <td>Годовые и больше</td>\n",
       "      <td>Другие страны</td>\n",
       "      <td>Год и больше</td>\n",
       "    </tr>\n",
       "    <tr>\n",
       "      <th>151</th>\n",
       "      <td>155</td>\n",
       "      <td>31 авг 2022</td>\n",
       "      <td>Калининград</td>\n",
       "      <td>ВЦ</td>\n",
       "      <td>Годовые и больше</td>\n",
       "      <td>Германия в истории</td>\n",
       "      <td>Год и больше</td>\n",
       "    </tr>\n",
       "    <tr>\n",
       "      <th>152</th>\n",
       "      <td>156</td>\n",
       "      <td>31 авг 2022</td>\n",
       "      <td>Москва</td>\n",
       "      <td>ВЦ Visametric</td>\n",
       "      <td>Даты поездки</td>\n",
       "      <td>Другие страны</td>\n",
       "      <td>Год и больше</td>\n",
       "    </tr>\n",
       "  </tbody>\n",
       "</table>\n",
       "<p>122 rows × 7 columns</p>\n",
       "</div>"
      ],
      "text/plain": [
       "     message_number         date             city    visa_center  \\\n",
       "31               34  03 июн 2022      Калининград  ВЦ визаметрик   \n",
       "32               35  10 июн 2022  Санкт-Петербург  ВЦ Визаметрик   \n",
       "33               36  12 июн 2022           Москва  ВЦ визаметрик   \n",
       "34               37  15 июн 2022     Екатеринбург  Визовый центр   \n",
       "35               38  21 июн 2022           Москва             ВЦ   \n",
       "..              ...          ...              ...            ...   \n",
       "148             152  31 авг 2022           Москва  ВЦ Visametric   \n",
       "149             153  31 авг 2022           Москва  ВЦ Visametric   \n",
       "150             154  31 авг 2022           Москва     Визаметрик   \n",
       "151             155  31 авг 2022      Калининград             ВЦ   \n",
       "152             156  31 авг 2022           Москва  ВЦ Visametric   \n",
       "\n",
       "              history     history_country         limit  \n",
       "31   Годовые и больше       Другие страны  Год и больше  \n",
       "32                Нет                 Нет  Даты поездки  \n",
       "33   Годовые и больше       Другие страны  Год и больше  \n",
       "34   Годовые и больше  Германия в истории  Год и больше  \n",
       "35   Годовые и больше       Другие страны  Год и больше  \n",
       "..                ...                 ...           ...  \n",
       "148   Меньше полугода  Германия в истории  Год и больше  \n",
       "149  Годовые и больше  Германия в истории  Год и больше  \n",
       "150  Годовые и больше       Другие страны  Год и больше  \n",
       "151  Годовые и больше  Германия в истории  Год и больше  \n",
       "152      Даты поездки       Другие страны  Год и больше  \n",
       "\n",
       "[122 rows x 7 columns]"
      ]
     },
     "execution_count": 644,
     "metadata": {},
     "output_type": "execute_result"
    }
   ],
   "source": [
    "df = pd.read_csv('done_data.csv')\n",
    "df = (\n",
    "    df >>\n",
    "    mask((X.date.str.contains('2022')) & (X.date.str.contains('июн') |\n",
    "                                          X.date.str.contains('июл') |\n",
    "                                          X.date.str.contains('авг') ))\n",
    ")\n",
    "df"
   ]
  },
  {
   "cell_type": "markdown",
   "id": "8cd25eb0",
   "metadata": {},
   "source": [
    "Строчки с датой до 15 июня отрежем вручную, чтобы не заморачиваться"
   ]
  },
  {
   "cell_type": "code",
   "execution_count": 645,
   "id": "26c06d94",
   "metadata": {},
   "outputs": [
    {
     "data": {
      "text/html": [
       "<div>\n",
       "<style scoped>\n",
       "    .dataframe tbody tr th:only-of-type {\n",
       "        vertical-align: middle;\n",
       "    }\n",
       "\n",
       "    .dataframe tbody tr th {\n",
       "        vertical-align: top;\n",
       "    }\n",
       "\n",
       "    .dataframe thead th {\n",
       "        text-align: right;\n",
       "    }\n",
       "</style>\n",
       "<table border=\"1\" class=\"dataframe\">\n",
       "  <thead>\n",
       "    <tr style=\"text-align: right;\">\n",
       "      <th></th>\n",
       "      <th>index</th>\n",
       "      <th>message_number</th>\n",
       "      <th>date</th>\n",
       "      <th>city</th>\n",
       "      <th>visa_center</th>\n",
       "      <th>history</th>\n",
       "      <th>history_country</th>\n",
       "      <th>limit</th>\n",
       "    </tr>\n",
       "  </thead>\n",
       "  <tbody>\n",
       "    <tr>\n",
       "      <th>0</th>\n",
       "      <td>35</td>\n",
       "      <td>38</td>\n",
       "      <td>21 июн 2022</td>\n",
       "      <td>Москва</td>\n",
       "      <td>ВЦ</td>\n",
       "      <td>Годовые и больше</td>\n",
       "      <td>Другие страны</td>\n",
       "      <td>Год и больше</td>\n",
       "    </tr>\n",
       "    <tr>\n",
       "      <th>1</th>\n",
       "      <td>36</td>\n",
       "      <td>39</td>\n",
       "      <td>23 июн 2022</td>\n",
       "      <td>Москва</td>\n",
       "      <td>ВЦ VISAMETRIC</td>\n",
       "      <td>Годовые и больше</td>\n",
       "      <td>Другие страны</td>\n",
       "      <td>Год и больше</td>\n",
       "    </tr>\n",
       "    <tr>\n",
       "      <th>2</th>\n",
       "      <td>37</td>\n",
       "      <td>40</td>\n",
       "      <td>24 июн 2022</td>\n",
       "      <td>Санкт-Петербург</td>\n",
       "      <td>ВЦ Визаметрик</td>\n",
       "      <td>Годовые и больше</td>\n",
       "      <td>Германия в истории</td>\n",
       "      <td>Полгода</td>\n",
       "    </tr>\n",
       "    <tr>\n",
       "      <th>3</th>\n",
       "      <td>38</td>\n",
       "      <td>41</td>\n",
       "      <td>24 июн 2022</td>\n",
       "      <td>Москва</td>\n",
       "      <td>ВЦ</td>\n",
       "      <td>Полугодовые</td>\n",
       "      <td>Другие страны</td>\n",
       "      <td>Меньше полугода</td>\n",
       "    </tr>\n",
       "    <tr>\n",
       "      <th>4</th>\n",
       "      <td>39</td>\n",
       "      <td>42</td>\n",
       "      <td>28 июн 2022</td>\n",
       "      <td>Москва</td>\n",
       "      <td>ВЦ</td>\n",
       "      <td>Годовые и больше</td>\n",
       "      <td>Германия в истории</td>\n",
       "      <td>Год и больше</td>\n",
       "    </tr>\n",
       "    <tr>\n",
       "      <th>...</th>\n",
       "      <td>...</td>\n",
       "      <td>...</td>\n",
       "      <td>...</td>\n",
       "      <td>...</td>\n",
       "      <td>...</td>\n",
       "      <td>...</td>\n",
       "      <td>...</td>\n",
       "      <td>...</td>\n",
       "    </tr>\n",
       "    <tr>\n",
       "      <th>113</th>\n",
       "      <td>148</td>\n",
       "      <td>152</td>\n",
       "      <td>31 авг 2022</td>\n",
       "      <td>Москва</td>\n",
       "      <td>ВЦ Visametric</td>\n",
       "      <td>Меньше полугода</td>\n",
       "      <td>Германия в истории</td>\n",
       "      <td>Год и больше</td>\n",
       "    </tr>\n",
       "    <tr>\n",
       "      <th>114</th>\n",
       "      <td>149</td>\n",
       "      <td>153</td>\n",
       "      <td>31 авг 2022</td>\n",
       "      <td>Москва</td>\n",
       "      <td>ВЦ Visametric</td>\n",
       "      <td>Годовые и больше</td>\n",
       "      <td>Германия в истории</td>\n",
       "      <td>Год и больше</td>\n",
       "    </tr>\n",
       "    <tr>\n",
       "      <th>115</th>\n",
       "      <td>150</td>\n",
       "      <td>154</td>\n",
       "      <td>31 авг 2022</td>\n",
       "      <td>Москва</td>\n",
       "      <td>Визаметрик</td>\n",
       "      <td>Годовые и больше</td>\n",
       "      <td>Другие страны</td>\n",
       "      <td>Год и больше</td>\n",
       "    </tr>\n",
       "    <tr>\n",
       "      <th>116</th>\n",
       "      <td>151</td>\n",
       "      <td>155</td>\n",
       "      <td>31 авг 2022</td>\n",
       "      <td>Калининград</td>\n",
       "      <td>ВЦ</td>\n",
       "      <td>Годовые и больше</td>\n",
       "      <td>Германия в истории</td>\n",
       "      <td>Год и больше</td>\n",
       "    </tr>\n",
       "    <tr>\n",
       "      <th>117</th>\n",
       "      <td>152</td>\n",
       "      <td>156</td>\n",
       "      <td>31 авг 2022</td>\n",
       "      <td>Москва</td>\n",
       "      <td>ВЦ Visametric</td>\n",
       "      <td>Даты поездки</td>\n",
       "      <td>Другие страны</td>\n",
       "      <td>Год и больше</td>\n",
       "    </tr>\n",
       "  </tbody>\n",
       "</table>\n",
       "<p>118 rows × 8 columns</p>\n",
       "</div>"
      ],
      "text/plain": [
       "     index  message_number         date             city    visa_center  \\\n",
       "0       35              38  21 июн 2022           Москва             ВЦ   \n",
       "1       36              39  23 июн 2022           Москва  ВЦ VISAMETRIC   \n",
       "2       37              40  24 июн 2022  Санкт-Петербург  ВЦ Визаметрик   \n",
       "3       38              41  24 июн 2022           Москва             ВЦ   \n",
       "4       39              42  28 июн 2022           Москва             ВЦ   \n",
       "..     ...             ...          ...              ...            ...   \n",
       "113    148             152  31 авг 2022           Москва  ВЦ Visametric   \n",
       "114    149             153  31 авг 2022           Москва  ВЦ Visametric   \n",
       "115    150             154  31 авг 2022           Москва     Визаметрик   \n",
       "116    151             155  31 авг 2022      Калининград             ВЦ   \n",
       "117    152             156  31 авг 2022           Москва  ВЦ Visametric   \n",
       "\n",
       "              history     history_country            limit  \n",
       "0    Годовые и больше       Другие страны     Год и больше  \n",
       "1    Годовые и больше       Другие страны     Год и больше  \n",
       "2    Годовые и больше  Германия в истории          Полгода  \n",
       "3         Полугодовые       Другие страны  Меньше полугода  \n",
       "4    Годовые и больше  Германия в истории     Год и больше  \n",
       "..                ...                 ...              ...  \n",
       "113   Меньше полугода  Германия в истории     Год и больше  \n",
       "114  Годовые и больше  Германия в истории     Год и больше  \n",
       "115  Годовые и больше       Другие страны     Год и больше  \n",
       "116  Годовые и больше  Германия в истории     Год и больше  \n",
       "117      Даты поездки       Другие страны     Год и больше  \n",
       "\n",
       "[118 rows x 8 columns]"
      ]
     },
     "execution_count": 645,
     "metadata": {},
     "output_type": "execute_result"
    }
   ],
   "source": [
    "df = df[4:]\n",
    "df = df.reset_index()\n",
    "df"
   ]
  },
  {
   "cell_type": "code",
   "execution_count": 646,
   "id": "4ce136b3",
   "metadata": {},
   "outputs": [],
   "source": [
    "df['history'] = pd.Categorical(df[\"history\"], ['Годовые и больше', 'Полугодовые', 'Меньше полугода', \n",
    "                                      'Даты поездки', 'Нет', 'Не понять'])\n",
    "df['limit'] = pd.Categorical(df[\"limit\"], ['Год и больше', 'Полгода', 'Меньше полугода', \n",
    "                                      'Даты поездки', 'Отказ'])\n",
    "df['history_country'] = pd.Categorical(df['history_country'])"
   ]
  },
  {
   "cell_type": "markdown",
   "id": "e191dafc",
   "metadata": {},
   "source": [
    "Готовимся рисовать графику"
   ]
  },
  {
   "cell_type": "code",
   "execution_count": 647,
   "id": "d78c23d1",
   "metadata": {},
   "outputs": [],
   "source": [
    "plt.style.use('ggplot')\n",
    "colors = sns.color_palette('Dark2')\n",
    "mpl.rcParams['figure.dpi'] = 110"
   ]
  },
  {
   "cell_type": "markdown",
   "id": "7fa2dd67",
   "metadata": {},
   "source": [
    "### Как выдают визы с хорошей визовой историей  \n",
    "«Хорошая» — у человека были визы на год и больше"
   ]
  },
  {
   "cell_type": "code",
   "execution_count": 648,
   "id": "75b2e50e",
   "metadata": {},
   "outputs": [
    {
     "data": {
      "image/png": "[encoded data removed]",
      "text/plain": [
       "<Figure size 880x660 with 1 Axes>"
      ]
     },
     "metadata": {},
     "output_type": "display_data"
    }
   ],
   "source": [
    "temp = (df >>\n",
    "        group_by(X.history, X.limit) >>\n",
    "        summarize(count = n(X.limit)) >>\n",
    "        mask(X.history == 'Годовые и больше'))\n",
    "\n",
    "plt.pie(temp['count'], labels = temp['limit'], colors = colors)\n",
    "plt.title('') \n",
    "plt.show()"
   ]
  },
  {
   "cell_type": "markdown",
   "id": "f20ccb37",
   "metadata": {},
   "source": [
    "Сразу видно, что людей с хорошей визовой историей немцы редко обижают  \n",
    "Ньюанс — количество людей в секторе «год и больше» тут огромное, а во всех остальных секторах людей очень мало.  \n",
    "Если строить столбчатый график, то это будет выглядеть вот так — зеленый столбик уходит далеко вверх"
   ]
  },
  {
   "cell_type": "code",
   "execution_count": 649,
   "id": "d440b4dd",
   "metadata": {},
   "outputs": [
    {
     "data": {
      "image/png": "[encoded data removed]",
      "text/plain": [
       "<Figure size 880x385 with 1 Axes>"
      ]
     },
     "metadata": {},
     "output_type": "display_data"
    }
   ],
   "source": [
    "temp = (df >>\n",
    "        group_by(X.history, X.limit) >>\n",
    "        summarize(count = n(X.limit)) >>\n",
    "        mask(X.history == 'Годовые и больше'))\n",
    "\n",
    "plt.figure(figsize=(8, 3.5))\n",
    "plt.axes().set_facecolor('white')\n",
    "plt.bar(height = temp['count'], x = temp['limit'], color = colors, width = .75)\n",
    "plt.title('Длительность выданных виз с визовой историей «Годовые и больше»',\n",
    "     loc = 'left')\n",
    "plt.show()"
   ]
  },
  {
   "cell_type": "markdown",
   "id": "3ee002a0",
   "metadata": {},
   "source": [
    "Возможно, все дело в том, что такие длинные визы получают те, у кого уже были немецкие визы?  \n",
    "Давайте проверим"
   ]
  },
  {
   "cell_type": "code",
   "execution_count": 650,
   "id": "7c554625",
   "metadata": {},
   "outputs": [
    {
     "data": {
      "image/png": "[encoded data removed]",
      "text/plain": [
       "<Figure size 1100x330 with 2 Axes>"
      ]
     },
     "metadata": {},
     "output_type": "display_data"
    }
   ],
   "source": [
    "temp = (df >>\n",
    "        group_by(X.history, X.limit, X.history_country) >>\n",
    "        summarize(count = n(X.limit)) >>\n",
    "        mask((X.history == 'Годовые и больше') & (X.history_country == 'Германия в истории'))\n",
    "       )\n",
    "\n",
    "temp1 = (df >>\n",
    "        group_by(X.history, X.limit, X.history_country) >>\n",
    "        summarize(count = n(X.limit)) >>\n",
    "        mask((X.history == 'Годовые и больше') & (X.history_country == 'Другие страны'))\n",
    "       )\n",
    "\n",
    "figure, axis = plt.subplots(1, 2, figsize=(10, 3))\n",
    "axis[0].set_facecolor('white')\n",
    "axis[1].set_facecolor('white')\n",
    "\n",
    "axis[0].bar(height = temp['count'], x = temp['limit'], color = colors, width = .65)\n",
    "axis[0].set_title('Были немецкие визы')\n",
    "\n",
    "axis[1].bar(height = temp1['count'], x = temp1['limit'], color = colors, width = .7)\n",
    "axis[1].set_title('Без немецких виз')\n",
    "\n",
    "plt.show()"
   ]
  },
  {
   "cell_type": "markdown",
   "id": "264bcbff",
   "metadata": {},
   "source": [
    "В общем, вроде бы немцы не обижают людей с хорошей визовой историей, даже если у них раньше не было немецких виз.  \n",
    "Важное уточнение — я сложил в одну кучу людей с визами на год, два и больше, потому что:  \n",
    "- У меня не было виз длиннее полугода для меня это все выглядит одинаково много;\n",
    "- Так было намного проще автоматизированно парсить длину визы."
   ]
  },
  {
   "cell_type": "markdown",
   "id": "ad0b0872",
   "metadata": {},
   "source": [
    "### Как выдают визы, если были полугодовые"
   ]
  },
  {
   "cell_type": "markdown",
   "id": "245636e0",
   "metadata": {},
   "source": [
    "Сначала общее распределение"
   ]
  },
  {
   "cell_type": "code",
   "execution_count": 651,
   "id": "39de2393",
   "metadata": {},
   "outputs": [
    {
     "data": {
      "image/png": "[encoded data removed]",
      "text/plain": [
       "<Figure size 880x385 with 1 Axes>"
      ]
     },
     "metadata": {},
     "output_type": "display_data"
    }
   ],
   "source": [
    "temp = (df >>\n",
    "        mask(X.history == 'Полугодовые') >>\n",
    "        group_by(X.history, X.limit) >>\n",
    "        summarize(count = n(X.limit))\n",
    "       )\n",
    "\n",
    "plt.figure(figsize=(8, 3.5))\n",
    "plt.axes().set_facecolor('white')\n",
    "plt.bar(height = temp['count'], x = temp['limit'], color = colors, width = .75)\n",
    "plt.title('Длительность выданных виз полугодовыми визами в истории',\n",
    "     loc = 'left')\n",
    "plt.show()"
   ]
  },
  {
   "cell_type": "markdown",
   "id": "6a6acb77",
   "metadata": {},
   "source": [
    "Сразу видно две вещи:  \n",
    "- Людей в этой категории ну очень мало;\n",
    "- Тут тоже вроде бы не обижают."
   ]
  },
  {
   "cell_type": "markdown",
   "id": "daf4d6d9",
   "metadata": {},
   "source": [
    "Строим отдельные графики для людей с немецкой историей и без"
   ]
  },
  {
   "cell_type": "code",
   "execution_count": 652,
   "id": "a4586f87",
   "metadata": {},
   "outputs": [
    {
     "data": {
      "image/png": "[encoded data removed]",
      "text/plain": [
       "<Figure size 1100x330 with 2 Axes>"
      ]
     },
     "metadata": {},
     "output_type": "display_data"
    }
   ],
   "source": [
    "temp = (df >>\n",
    "        mask((X.history == 'Полугодовые') & (X.history_country == 'Германия в истории')) >>\n",
    "        group_by(X.history, X.limit, X.history_country) >>\n",
    "        summarize(count = n(X.limit))\n",
    "       )\n",
    "\n",
    "temp1 = (df >>\n",
    "        group_by(X.history, X.limit, X.history_country) >>\n",
    "        summarize(count = n(X.limit)) >>\n",
    "        mask((X.history == 'Полугодовые') & (X.history_country == 'Другие страны'))\n",
    "       )\n",
    "\n",
    "figure, axis = plt.subplots(1, 2, figsize=(10, 3))\n",
    "axis[0].set_facecolor('white')\n",
    "axis[1].set_facecolor('white')\n",
    "\n",
    "axis[0].bar(height = temp['count'], x = temp['limit'], color = colors, width = .6)\n",
    "axis[0].set_title('Были немецкие визы')\n",
    "\n",
    "axis[1].bar(height = temp1['count'], x = temp1['limit'], color = colors, width = .7)\n",
    "axis[1].set_title('Без немецких виз')\n",
    "\n",
    "plt.show()"
   ]
  },
  {
   "cell_type": "markdown",
   "id": "a5842372",
   "metadata": {},
   "source": [
    "Оказалось, что людей с полугодовыми визами и Германией в истории очень мало, так что искать скрытый смысл в графике не стоит. Людей без немецкой визовой истории и тут вроде бы не обижают."
   ]
  },
  {
   "cell_type": "markdown",
   "id": "acfe3aa0",
   "metadata": {},
   "source": [
    "Как выдают визы, если раньше были только короткие"
   ]
  },
  {
   "cell_type": "code",
   "execution_count": 653,
   "id": "aa71f1e1",
   "metadata": {},
   "outputs": [
    {
     "data": {
      "image/png": "[encoded data removed]",
      "text/plain": [
       "<Figure size 880x385 with 1 Axes>"
      ]
     },
     "metadata": {},
     "output_type": "display_data"
    }
   ],
   "source": [
    "temp = (df >>\n",
    "        mask((X.history == 'Меньше полугода') | ( X.history == 'Даты поездки')) >>\n",
    "        group_by(X.limit) >>\n",
    "        summarize(count = n(X.limit))      \n",
    "       )\n",
    "\n",
    "\n",
    "plt.figure(figsize=(8, 3.5))\n",
    "plt.axes().set_facecolor('white')\n",
    "plt.bar(data = temp, height = 'count', x = 'limit', color = colors, width = .75)\n",
    "plt.title('Длительность выданных виз с визами меньше полугода в истории',\n",
    "     loc = 'left')\n",
    "plt.show()"
   ]
  },
  {
   "cell_type": "code",
   "execution_count": 654,
   "id": "4e86b7f0",
   "metadata": {},
   "outputs": [
    {
     "data": {
      "image/png": "[encoded data removed]",
      "text/plain": [
       "<Figure size 880x660 with 1 Axes>"
      ]
     },
     "metadata": {},
     "output_type": "display_data"
    }
   ],
   "source": [
    "temp = (df >>\n",
    "        mask((X.history == 'Меньше полугода') |( X.history == 'Даты поездки')) >>\n",
    "        group_by(X.limit) >>\n",
    "        summarize(count = n(X.limit))      \n",
    "       )\n",
    "\n",
    "plt.axes().set_facecolor('white')\n",
    "\n",
    "\n",
    "sns.barplot(\n",
    "    data = temp,\n",
    "    x = 'limit',\n",
    "    y = 'count', \n",
    "    palette = 'Dark2'\n",
    ")\n",
    "plt.xlabel(' ')\n",
    "plt.ylabel('Количество виз', fontsize = 20)\n",
    "sns.despine()"
   ]
  },
  {
   "cell_type": "code",
   "execution_count": null,
   "id": "d4ee1c5f",
   "metadata": {},
   "outputs": [],
   "source": []
  },
  {
   "cell_type": "code",
   "execution_count": null,
   "id": "cd01c90e",
   "metadata": {},
   "outputs": [],
   "source": []
  },
  {
   "cell_type": "raw",
   "id": "0cd8c366",
   "metadata": {},
   "source": []
  },
  {
   "cell_type": "code",
   "execution_count": null,
   "id": "6b016df8",
   "metadata": {},
   "outputs": [],
   "source": []
  },
  {
   "cell_type": "code",
   "execution_count": null,
   "id": "ce0b18dc",
   "metadata": {},
   "outputs": [],
   "source": []
  },
  {
   "cell_type": "code",
   "execution_count": null,
   "id": "f3f30688",
   "metadata": {},
   "outputs": [],
   "source": []
  },
  {
   "cell_type": "code",
   "execution_count": null,
   "id": "71d9758d",
   "metadata": {},
   "outputs": [],
   "source": []
  },
  {
   "cell_type": "code",
   "execution_count": null,
   "id": "c5d90c83",
   "metadata": {},
   "outputs": [],
   "source": []
  },
  {
   "cell_type": "code",
   "execution_count": null,
   "id": "50686e93",
   "metadata": {},
   "outputs": [],
   "source": []
  },
  {
   "cell_type": "code",
   "execution_count": null,
   "id": "03455d42",
   "metadata": {},
   "outputs": [],
   "source": []
  },
  {
   "cell_type": "code",
   "execution_count": null,
   "id": "a0881aff",
   "metadata": {},
   "outputs": [],
   "source": []
  },
  {
   "cell_type": "code",
   "execution_count": null,
   "id": "1a9afbd6",
   "metadata": {},
   "outputs": [],
   "source": []
  },
  {
   "cell_type": "code",
   "execution_count": null,
   "id": "2a6c5077",
   "metadata": {},
   "outputs": [],
   "source": []
  },
  {
   "cell_type": "code",
   "execution_count": null,
   "id": "529fb981",
   "metadata": {},
   "outputs": [],
   "source": []
  },
  {
   "cell_type": "code",
   "execution_count": null,
   "id": "a2918831",
   "metadata": {},
   "outputs": [],
   "source": []
  },
  {
   "cell_type": "code",
   "execution_count": null,
   "id": "85222904",
   "metadata": {},
   "outputs": [],
   "source": []
  },
  {
   "cell_type": "code",
   "execution_count": null,
   "id": "20335c19",
   "metadata": {},
   "outputs": [],
   "source": []
  },
  {
   "cell_type": "code",
   "execution_count": null,
   "id": "f98a48e8",
   "metadata": {},
   "outputs": [],
   "source": []
  },
  {
   "cell_type": "markdown",
   "id": "28e4e14f",
   "metadata": {},
   "source": [
    "Тут коммиты"
   ]
  },
  {
   "cell_type": "code",
   "execution_count": 658,
   "id": "6eddd25a",
   "metadata": {},
   "outputs": [
    {
     "name": "stdout",
     "output_type": "stream",
     "text": [
      "error: pathspec 'Частично проанализировал данные, почистил код, удалил ненужные выводы ячеек' did not match any file(s) known to git\n",
      "Everything up-to-date\n"
     ]
    }
   ],
   "source": [
    "!git commit --amend 'Частично проанализировал данные, почистил код, удалил ненужные выводы ячеек'\n",
    "!git push"
   ]
  },
  {
   "cell_type": "code",
   "execution_count": null,
   "id": "b4f083cf",
   "metadata": {},
   "outputs": [],
   "source": []
  }
 ],
 "metadata": {
  "kernelspec": {
   "display_name": "Python 3 (ipykernel)",
   "language": "python",
   "name": "python3"
  },
  "language_info": {
   "codemirror_mode": {
    "name": "ipython",
    "version": 3
   },
   "file_extension": ".py",
   "mimetype": "text/x-python",
   "name": "python",
   "nbconvert_exporter": "python",
   "pygments_lexer": "ipython3",
   "version": "3.9.12"
  }
 },
 "nbformat": 4,
 "nbformat_minor": 5
}
